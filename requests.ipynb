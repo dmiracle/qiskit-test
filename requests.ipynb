{
 "metadata": {
  "language_info": {
   "codemirror_mode": {
    "name": "ipython",
    "version": 3
   },
   "file_extension": ".py",
   "mimetype": "text/x-python",
   "name": "python",
   "nbconvert_exporter": "python",
   "pygments_lexer": "ipython3",
   "version": "3.8.2"
  },
  "orig_nbformat": 2,
  "kernelspec": {
   "name": "pythonjvsc74a57bd01022dce825410108a12e9be30c9d6ab7ef1801f59b4aaef47b4ea4f63b896cef",
   "display_name": "Python 3.8.2 64-bit ('venv': venv)"
  },
  "metadata": {
   "interpreter": {
    "hash": "1022dce825410108a12e9be30c9d6ab7ef1801f59b4aaef47b4ea4f63b896cef"
   }
  }
 },
 "nbformat": 4,
 "nbformat_minor": 2,
 "cells": [
  {
   "cell_type": "code",
   "execution_count": 3,
   "metadata": {},
   "outputs": [],
   "source": [
    "from decouple import config\n",
    "from datetime import datetime\n",
    "import requests\n",
    "import json\n",
    "import time\n",
    "import pprint"
   ]
  },
  {
   "cell_type": "code",
   "execution_count": 2,
   "metadata": {},
   "outputs": [],
   "source": [
    "headers = {\n",
    "    'Authorization': f\"Bearer {config('IBM_API_KEY')}\",\n",
    "    'Content-Type': 'application/json'\n",
    "}\n",
    "\n",
    "Runtime_API_URL = \"https://runtime-us-east.quantum-computing.ibm.com/\""
   ]
  },
  {
   "cell_type": "code",
   "execution_count": 4,
   "metadata": {},
   "outputs": [
    {
     "output_type": "stream",
     "name": "stdout",
     "text": [
      "[{'cost': 1800,\n  'creationDate': '2021-05-07T00:17:07Z',\n  'description': 'A runtime program that takes one or more circuits, compiles '\n                 'them, executes them, and optionally applies measurement '\n                 'error mitigation.',\n  'id': 'circuit-runner',\n  'name': 'circuit-runner',\n  'parameters': '{\"doc\": [{\"name\": \"circuits\", \"description\": \"A circuit or a '\n                'list of circuits.\", \"type\": \"A QuantumCircuit or a list of '\n                'QuantumCircuits.\", \"required\": true}, {\"name\": \"shots\", '\n                '\"description\": \"Number of repetitions of each circuit, for '\n                'sampling. Default: 1024.\", \"type\": \"int\", \"required\": false}, '\n                '{\"name\": \"initial_layout\", \"description\": \"Initial position '\n                'of virtual qubits on physical qubits.\", \"type\": \"dict or '\n                'list\", \"required\": false}, {\"name\": \"layout_method\", '\n                '\"description\": \"Name of layout selection pass (\\'trivial\\', '\n                '\\'dense\\', \\'noise_adaptive\\', \\'sabre\\')\", \"type\": \"string\", '\n                '\"required\": false}, {\"name\": \"routing_method\", \"description\": '\n                '\"Name of routing pass (\\'basic\\', \\'lookahead\\', '\n                '\\'stochastic\\', \\'sabre\\').\", \"type\": \"string\", \"required\": '\n                'false}, {\"name\": \"translation_method\", \"description\": \"Name '\n                \"of translation pass ('unroller', 'translator', \"\n                '\\'synthesis\\').\", \"type\": \"string\", \"required\": false}, '\n                '{\"name\": \"seed_transpiler\", \"description\": \"Sets random seed '\n                'for the stochastic parts of the transpiler.\", \"type\": \"int\", '\n                '\"required\": false}, {\"name\": \"optimization_level\", '\n                '\"description\": \"How much optimization to perform on the '\n                'circuits (0-3). Higher levels generate more optimized '\n                'circuits. Default is 1.\", \"type\": \"int\", \"required\": false}, '\n                '{\"name\": \"init_qubits\", \"description\": \"Whether to reset the '\n                'qubits to the ground state for each shot.\", \"type\": \"bool\", '\n                '\"required\": false}, {\"name\": \"rep_delay\", \"description\": '\n                '\"Delay between programs in seconds.\", \"type\": \"float\", '\n                '\"required\": false}, {\"name\": \"transpiler_options\", '\n                '\"description\": \"Additional compilation options.\", \"type\": '\n                '\"dict\", \"required\": false}, {\"name\": '\n                '\"measurement_error_mitigation\", \"description\": \"Whether to '\n                'apply measurement error mitigation. Default is False.\", '\n                '\"type\": \"bool\", \"required\": false}]}',\n  'returnValues': '[{\"name\": \"-\", \"description\": \"Circuit execution results.\", '\n                  '\"type\": \"RunnerResult object\"}]',\n  'version': '1'},\n {'cost': 28800,\n  'creationDate': '2021-05-06T14:56:53Z',\n  'description': 'Quantum kernel alignment algorithm that learns, on a given '\n                 'dataset, a quantum kernel maximizing the SVM classification '\n                 'margin.',\n  'id': 'quantum-kernel-alignment',\n  'name': 'quantum-kernel-alignment',\n  'parameters': '{\"doc\": [{\"name\": \"feature_map\", \"description\": \"An instance '\n                'of FeatureMap in dictionary format used to map classical data '\n                'into a quantum state space.\", \"type\": \"dict\", \"required\": '\n                'true}, {\"name\": \"data\", \"description\": \"NxD array of training '\n                'data, where N is the number of samples and D is the feature '\n                'dimension.\", \"type\": \"numpy.ndarray\", \"required\": true}, '\n                '{\"name\": \"labels\", \"description\": \"Nx1 array of +/-1 labels '\n                'of the N training samples.\", \"type\": \"numpy.ndarray\", '\n                '\"required\": true}, {\"name\": \"initial_kernel_parameters\", '\n                '\"description\": \"Initial parameters of the quantum kernel. If '\n                'not specified, an array of randomly generated numbers is '\n                'used.\", \"type\": \"numpy.ndarray\", \"required\": false}, {\"name\": '\n                '\"maxiters\", \"description\": \"Number of SPSA optimization '\n                'steps. Default is 1.\", \"type\": \"int\", \"required\": false}, '\n                '{\"name\": \"C\", \"description\": \"Penalty parameter for the '\n                'soft-margin support vector machine. Default is 1.\", \"type\": '\n                '\"float\", \"required\": false}, {\"name\": \"initial_layout\", '\n                '\"description\": \"Initial position of virtual qubits on the '\n                'physical qubits of the quantum device. Default is None.\", '\n                '\"type\": \"list or dict\", \"required\": false}]}',\n  'returnValues': '[{\"name\": \"aligned_kernel_parameters\", \"description\": \"The '\n                  'optimized kernel parameters found from quantum kernel '\n                  'alignment.\", \"type\": \"numpy.ndarray\"}, {\"name\": '\n                  '\"aligned_kernel_matrix\", \"description\": \"The aligned '\n                  'quantum kernel matrix evaluated with the optimized kernel '\n                  'parameters on the training data.\", \"type\": '\n                  '\"numpy.ndarray\"}]',\n  'version': '1'},\n {'backendRequirements': '{\"min_num_qubits\": 5}',\n  'cost': 900,\n  'creationDate': '2021-05-07T13:08:55Z',\n  'description': 'Simple runtime program used for testing.',\n  'id': 'runtime-simple',\n  'interimResults': '[{\"name\": \"iteration\", \"description\": \"Iteration '\n                    'number.\", \"type\": \"int\"}, {\"name\": \"counts\", '\n                    '\"description\": \"Histogram data of the circuit result.\", '\n                    '\"type\": \"dict\"}]',\n  'name': 'runtime-simple',\n  'parameters': '{\"doc\": [{\"name\": \"iterations\", \"description\": \"Number of '\n                'iterations to run. Each iteration generates and runs a random '\n                'circuit.\", \"type\": \"int\", \"required\": true}]}',\n  'returnValues': '[{\"name\": \"-\", \"description\": \"A string that says \\'All '\n                  'done!\\'.\", \"type\": \"string\"}]',\n  'version': '1'},\n {'cost': 18000,\n  'creationDate': '2021-05-10T08:59:51Z',\n  'description': 'Variational Quantum Eigensolver (VQE) to find the minimal '\n                 'eigenvalue of a Hamiltonian.',\n  'id': 'vqe',\n  'name': 'vqe',\n  'parameters': '{\"doc\": [{\"name\": \"ansatz\", \"description\": \"A parameterized '\n                'quantum circuit preparing the ansatz wavefunction for the '\n                'VQE. It is assumed that all qubits are initially in the 0 '\n                'state.\", \"type\": \"QuantumCircuit\", \"required\": true}, '\n                '{\"name\": \"operator\", \"description\": \"The Hamiltonian whose '\n                'smallest eigenvalue we\\'re trying to find.\", \"type\": '\n                '\"PauliSumOp\", \"required\": true}, {\"name\": \"optimizer\", '\n                '\"description\": \"The classical optimizer used in to update the '\n                'parameters in each iteration. Currently, only SPSA and '\n                'QN-SPSA are supported. This must be a dictionary specifying '\n                \"the name and options of the optimizer, e.g. ``{'name': \"\n                '\\'SPSA\\', \\'maxiter\\': 100}``.\", \"type\": \"dict\", \"required\": '\n                'true}, {\"name\": \"initial_parameters\", \"description\": \"Initial '\n                'parameters of the ansatz. Can be an array or the string '\n                '``\\'random\\'`` to choose random initial parameters.\", \"type\": '\n                '\"Union[numpy.ndarray, str]\", \"required\": true}, {\"name\": '\n                '\"aux_operators\", \"description\": \"A list of operators to be '\n                'evaluated at the final, optimized state.\", \"type\": '\n                '\"List[PauliSumOp]\", \"required\": false}, {\"name\": \"shots\", '\n                '\"description\": \"The number of shots used for each circuit '\n                'evaluation. Defaults to 1024.\", \"type\": \"int\", \"required\": '\n                'false}, {\"name\": \"measurement_error_mitigation\", '\n                '\"description\": \"Whether to apply measurement error mitigation '\n                'in form of a complete measurement fitter to the measurements. '\n                'Defaults to False.\", \"type\": \"bool\", \"required\": false}, '\n                '{\"name\": \"initial_layout\", \"description\": \"Initial position '\n                'of virtual qubits on the physical qubits of the quantum '\n                'device. Default is None.\", \"type\": \"list or dict\", '\n                '\"required\": false}]}',\n  'returnValues': '[{\"name\": \"optimizer_evals\", \"description\": \"The number of '\n                  'steps of the optimizer.\", \"type\": \"int\"}, {\"name\": '\n                  '\"optimizer_time\", \"description\": \"The total time taken by '\n                  'the optimizer.\", \"type\": \"float\"}, {\"name\": '\n                  '\"optimal_value\", \"description\": \"The smallest value found '\n                  'during the optimization. Equal to the ``eigenvalue`` '\n                  'attribute.\", \"type\": \"float\"}, {\"name\": \"optimal_point\", '\n                  '\"description\": \"The optimal parameter values found during '\n                  'the optimization.\", \"type\": \"np.ndarray\"}, {\"name\": '\n                  '\"optimal_parameters\", \"description\": \"Not supported at the '\n                  'moment, therefore ``None``.\", \"type\": \"NoneType\"}, {\"name\": '\n                  '\"cost_function_evals\", \"description\": \"The number of cost '\n                  'function (energy) evaluations\", \"type\": \"int\"}, {\"name\": '\n                  '\"eigenstate\", \"description\": \"The square root of sampling '\n                  'probabilities for each computational basis state of the '\n                  'circuit with optimal parameters.\", \"type\": \"dict\"}, '\n                  '{\"name\": \"eigenvalue\", \"description\": \"The estimated '\n                  'eigenvalue.\", \"type\": \"complex\"}, {\"name\": '\n                  '\"aux_operator_eigenvalues\", \"description\": \"The expectation '\n                  'values of the auxiliary operators at the optimal state.\", '\n                  '\"type\": \"np.ndarray\"}, {\"name\": \"optimizer_history\", '\n                  '\"description\": \"A dictionary containing information about '\n                  'the optimization process: the value objective function, '\n                  'parameters, and a timestamp.\", \"type\": \"dict\"}]',\n  'version': '1'}]\n"
     ]
    }
   ],
   "source": [
    "res = requests.get(Runtime_API_URL + 'programs' , headers = headers)\n",
    "pprint.pprint(res.json())"
   ]
  },
  {
   "cell_type": "code",
   "execution_count": 5,
   "metadata": {},
   "outputs": [],
   "source": [
    "rt_program = \"runtime-simple\"\n",
    "program_in = {\"iterations\":2}\n",
    "\n",
    "params = json.dumps({\n",
    "      \"programId\": rt_program,\n",
    "      \"hub\": \"strangeworks-hub\",\n",
    "      \"group\": \"internal\",\n",
    "      \"project\": \"default\",\n",
    "      \"backend\": \"ibmq_montreal\",\n",
    "      \"params\": [\n",
    "        json.dumps(program_in)\n",
    "      ]\n",
    "})\n",
    "\n",
    "job_id = ''\n",
    "\n",
    "res = requests.post(Runtime_API_URL + 'jobs', data=params, headers=headers)"
   ]
  },
  {
   "cell_type": "code",
   "execution_count": 6,
   "metadata": {},
   "outputs": [
    {
     "output_type": "execute_result",
     "data": {
      "text/plain": [
       "200"
      ]
     },
     "metadata": {},
     "execution_count": 6
    }
   ],
   "source": [
    "res.status_code"
   ]
  },
  {
   "cell_type": "code",
   "execution_count": 7,
   "metadata": {},
   "outputs": [
    {
     "output_type": "stream",
     "name": "stdout",
     "text": [
      "{'id': 'c2nscm2vs0sjl2qsuhl0'}\n"
     ]
    }
   ],
   "source": [
    "pprint.pprint(res.json())"
   ]
  },
  {
   "cell_type": "code",
   "execution_count": null,
   "metadata": {},
   "outputs": [],
   "source": []
  }
 ]
}