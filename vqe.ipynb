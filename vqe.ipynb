{
 "metadata": {
  "language_info": {
   "codemirror_mode": {
    "name": "ipython",
    "version": 3
   },
   "file_extension": ".py",
   "mimetype": "text/x-python",
   "name": "python",
   "nbconvert_exporter": "python",
   "pygments_lexer": "ipython3",
   "version": "3.8.2"
  },
  "orig_nbformat": 2,
  "kernelspec": {
   "name": "python3",
   "display_name": "Python 3.8.2 64-bit ('venv': venv)"
  },
  "metadata": {
   "interpreter": {
    "hash": "4cd7ab41f5fca4b9b44701077e38c5ffd31fe66a6cab21e0214b68d958d0e462"
   }
  },
  "interpreter": {
   "hash": "1022dce825410108a12e9be30c9d6ab7ef1801f59b4aaef47b4ea4f63b896cef"
  }
 },
 "nbformat": 4,
 "nbformat_minor": 2,
 "cells": [
  {
   "cell_type": "code",
   "execution_count": 1,
   "metadata": {},
   "outputs": [],
   "source": [
    "from decouple import config\n",
    "from qiskit import IBMQ\n",
    "from datetime import datetime\n",
    "import pprint\n",
    "import json\n"
   ]
  },
  {
   "cell_type": "code",
   "execution_count": 2,
   "metadata": {},
   "outputs": [
    {
     "output_type": "stream",
     "name": "stdout",
     "text": [
      "[<IBMQBackend('ibmq_montreal') from IBMQ(hub='strangeworks-hub', group='science-team', project='science-test')>]\n"
     ]
    }
   ],
   "source": [
    "# IBMQ.save_account(config('IBM_API_KEY'), overwrite=True)\n",
    "IBMQ.load_account()\n",
    "IBMQ.providers()\n",
    "provider = IBMQ.get_provider(hub='strangeworks-hub', group='science-team', project='science-test')\n",
    "print(provider.backends())"
   ]
  },
  {
   "cell_type": "code",
   "execution_count": 3,
   "metadata": {},
   "outputs": [],
   "source": [
    "from qiskit.opflow import Z, I\n",
    "\n",
    "num_qubits = 4\n",
    "hamiltonian = (Z ^ Z) ^ (I ^ (num_qubits - 2))\n",
    "target_energy = -1"
   ]
  },
  {
   "cell_type": "code",
   "execution_count": 4,
   "metadata": {},
   "outputs": [
    {
     "output_type": "execute_result",
     "data": {
      "text/plain": [
       "<Figure size 628.397x264.88 with 1 Axes>"
      ],
      "image/svg+xml": "<?xml version=\"1.0\" encoding=\"utf-8\" standalone=\"no\"?>\n<!DOCTYPE svg PUBLIC \"-//W3C//DTD SVG 1.1//EN\"\n  \"http://www.w3.org/Graphics/SVG/1.1/DTD/svg11.dtd\">\n<svg height=\"214.3844pt\" version=\"1.1\" viewBox=\"0 0 488.840036 214.3844\" width=\"488.840036pt\" xmlns=\"http://www.w3.org/2000/svg\" xmlns:xlink=\"http://www.w3.org/1999/xlink\">\n <metadata>\n  <rdf:RDF xmlns:cc=\"http://creativecommons.org/ns#\" xmlns:dc=\"http://purl.org/dc/elements/1.1/\" xmlns:rdf=\"http://www.w3.org/1999/02/22-rdf-syntax-ns#\">\n   <cc:Work>\n    <dc:type rdf:resource=\"http://purl.org/dc/dcmitype/StillImage\"/>\n    <dc:date>2021-06-29T09:38:41.948217</dc:date>\n    <dc:format>image/svg+xml</dc:format>\n    <dc:creator>\n     <cc:Agent>\n      <dc:title>Matplotlib v3.4.2, https://matplotlib.org/</dc:title>\n     </cc:Agent>\n    </dc:creator>\n   </cc:Work>\n  </rdf:RDF>\n </metadata>\n <defs>\n  <style type=\"text/css\">*{stroke-linecap:butt;stroke-linejoin:round;}</style>\n </defs>\n <g id=\"figure_1\">\n  <g id=\"patch_1\">\n   <path d=\"M 0 214.3844 \nL 488.840036 214.3844 \nL 488.840036 0 \nL 0 0 \nz\n\" style=\"fill:#ffffff;\"/>\n  </g>\n  <g id=\"axes_1\">\n   <g id=\"line2d_1\">\n    <path clip-path=\"url(#p318e017dc2)\" d=\"M 63.490836 43.5608 \nL 477.094936 43.5608 \n\" style=\"fill:none;stroke:#000000;stroke-linecap:square;stroke-width:2;\"/>\n   </g>\n   <g id=\"line2d_2\">\n    <path clip-path=\"url(#p318e017dc2)\" d=\"M 63.490836 89.0118 \nL 477.094936 89.0118 \n\" style=\"fill:none;stroke:#000000;stroke-linecap:square;stroke-width:2;\"/>\n   </g>\n   <g id=\"line2d_3\">\n    <path clip-path=\"url(#p318e017dc2)\" d=\"M 63.490836 134.4628 \nL 477.094936 134.4628 \n\" style=\"fill:none;stroke:#000000;stroke-linecap:square;stroke-width:2;\"/>\n   </g>\n   <g id=\"line2d_4\">\n    <path clip-path=\"url(#p318e017dc2)\" d=\"M 63.490836 179.9138 \nL 477.094936 179.9138 \n\" style=\"fill:none;stroke:#000000;stroke-linecap:square;stroke-width:2;\"/>\n   </g>\n   <g id=\"patch_2\">\n    <path clip-path=\"url(#p318e017dc2)\" d=\"M 170.073431 66.2863 \nL 187.799321 66.2863 \nL 187.799321 20.8353 \nL 170.073431 20.8353 \nz\n\" style=\"fill:#a8a8a8;opacity:0.6;\"/>\n   </g>\n   <g id=\"patch_3\">\n    <path clip-path=\"url(#p318e017dc2)\" d=\"M 170.073431 111.7373 \nL 187.799321 111.7373 \nL 187.799321 66.2863 \nL 170.073431 66.2863 \nz\n\" style=\"fill:#a8a8a8;opacity:0.6;\"/>\n   </g>\n   <g id=\"patch_4\">\n    <path clip-path=\"url(#p318e017dc2)\" d=\"M 170.073431 157.1883 \nL 187.799321 157.1883 \nL 187.799321 111.7373 \nL 170.073431 111.7373 \nz\n\" style=\"fill:#a8a8a8;opacity:0.6;\"/>\n   </g>\n   <g id=\"patch_5\">\n    <path clip-path=\"url(#p318e017dc2)\" d=\"M 170.073431 202.6393 \nL 187.799321 202.6393 \nL 187.799321 157.1883 \nL 170.073431 157.1883 \nz\n\" style=\"fill:#a8a8a8;opacity:0.6;\"/>\n   </g>\n   <g id=\"patch_6\">\n    <path clip-path=\"url(#p318e017dc2)\" d=\"M 351.877431 66.2863 \nL 369.603321 66.2863 \nL 369.603321 20.8353 \nL 351.877431 20.8353 \nz\n\" style=\"fill:#a8a8a8;opacity:0.6;\"/>\n   </g>\n   <g id=\"patch_7\">\n    <path clip-path=\"url(#p318e017dc2)\" d=\"M 351.877431 111.7373 \nL 369.603321 111.7373 \nL 369.603321 66.2863 \nL 351.877431 66.2863 \nz\n\" style=\"fill:#a8a8a8;opacity:0.6;\"/>\n   </g>\n   <g id=\"patch_8\">\n    <path clip-path=\"url(#p318e017dc2)\" d=\"M 351.877431 157.1883 \nL 369.603321 157.1883 \nL 369.603321 111.7373 \nL 351.877431 111.7373 \nz\n\" style=\"fill:#a8a8a8;opacity:0.6;\"/>\n   </g>\n   <g id=\"patch_9\">\n    <path clip-path=\"url(#p318e017dc2)\" d=\"M 351.877431 202.6393 \nL 369.603321 202.6393 \nL 369.603321 157.1883 \nL 351.877431 157.1883 \nz\n\" style=\"fill:#a8a8a8;opacity:0.6;\"/>\n   </g>\n   <g id=\"line2d_5\">\n    <path clip-path=\"url(#p318e017dc2)\" d=\"M 224.387376 89.0118 \nL 224.387376 43.5608 \n\" style=\"fill:none;stroke:#002d9c;stroke-linecap:square;stroke-width:2;\"/>\n   </g>\n   <g id=\"line2d_6\">\n    <path clip-path=\"url(#p318e017dc2)\" d=\"M 269.838376 134.4628 \nL 269.838376 89.0118 \n\" style=\"fill:none;stroke:#002d9c;stroke-linecap:square;stroke-width:2;\"/>\n   </g>\n   <g id=\"line2d_7\">\n    <path clip-path=\"url(#p318e017dc2)\" d=\"M 315.289376 179.9138 \nL 315.289376 134.4628 \n\" style=\"fill:none;stroke:#002d9c;stroke-linecap:square;stroke-width:2;\"/>\n   </g>\n   <g id=\"patch_10\">\n    <path clip-path=\"url(#p318e017dc2)\" d=\"M 73.262801 58.332375 \nL 102.805951 58.332375 \nL 102.805951 28.789225 \nL 73.262801 28.789225 \nz\n\" style=\"fill:#9f1853;stroke:#9f1853;stroke-linejoin:miter;stroke-width:1.5;\"/>\n   </g>\n   <g id=\"patch_11\">\n    <path clip-path=\"url(#p318e017dc2)\" d=\"M 73.262801 103.783375 \nL 102.805951 103.783375 \nL 102.805951 74.240225 \nL 73.262801 74.240225 \nz\n\" style=\"fill:#9f1853;stroke:#9f1853;stroke-linejoin:miter;stroke-width:1.5;\"/>\n   </g>\n   <g id=\"patch_12\">\n    <path clip-path=\"url(#p318e017dc2)\" d=\"M 73.262801 149.234375 \nL 102.805951 149.234375 \nL 102.805951 119.691225 \nL 73.262801 119.691225 \nz\n\" style=\"fill:#9f1853;stroke:#9f1853;stroke-linejoin:miter;stroke-width:1.5;\"/>\n   </g>\n   <g id=\"patch_13\">\n    <path clip-path=\"url(#p318e017dc2)\" d=\"M 73.262801 194.685375 \nL 102.805951 194.685375 \nL 102.805951 165.142225 \nL 73.262801 165.142225 \nz\n\" style=\"fill:#9f1853;stroke:#9f1853;stroke-linejoin:miter;stroke-width:1.5;\"/>\n   </g>\n   <g id=\"patch_14\">\n    <path clip-path=\"url(#p318e017dc2)\" d=\"M 118.713801 58.332375 \nL 148.256951 58.332375 \nL 148.256951 28.789225 \nL 118.713801 28.789225 \nz\n\" style=\"fill:#9f1853;stroke:#9f1853;stroke-linejoin:miter;stroke-width:1.5;\"/>\n   </g>\n   <g id=\"patch_15\">\n    <path clip-path=\"url(#p318e017dc2)\" d=\"M 118.713801 103.783375 \nL 148.256951 103.783375 \nL 148.256951 74.240225 \nL 118.713801 74.240225 \nz\n\" style=\"fill:#9f1853;stroke:#9f1853;stroke-linejoin:miter;stroke-width:1.5;\"/>\n   </g>\n   <g id=\"patch_16\">\n    <path clip-path=\"url(#p318e017dc2)\" d=\"M 118.713801 149.234375 \nL 148.256951 149.234375 \nL 148.256951 119.691225 \nL 118.713801 119.691225 \nz\n\" style=\"fill:#9f1853;stroke:#9f1853;stroke-linejoin:miter;stroke-width:1.5;\"/>\n   </g>\n   <g id=\"patch_17\">\n    <path clip-path=\"url(#p318e017dc2)\" d=\"M 118.713801 194.685375 \nL 148.256951 194.685375 \nL 148.256951 165.142225 \nL 118.713801 165.142225 \nz\n\" style=\"fill:#9f1853;stroke:#9f1853;stroke-linejoin:miter;stroke-width:1.5;\"/>\n   </g>\n   <g id=\"patch_18\">\n    <path clip-path=\"url(#p318e017dc2)\" d=\"M 224.387376 47.992272 \nC 225.562616 47.992272 226.68988 47.525345 227.520901 46.694324 \nC 228.351921 45.863304 228.818849 44.73604 228.818849 43.5608 \nC 228.818849 42.38556 228.351921 41.258296 227.520901 40.427276 \nC 226.68988 39.596255 225.562616 39.129328 224.387376 39.129328 \nC 223.212136 39.129328 222.084872 39.596255 221.253852 40.427276 \nC 220.422832 41.258296 219.955904 42.38556 219.955904 43.5608 \nC 219.955904 44.73604 220.422832 45.863304 221.253852 46.694324 \nC 222.084872 47.525345 223.212136 47.992272 224.387376 47.992272 \nz\n\" style=\"fill:#002d9c;stroke:#002d9c;stroke-linejoin:miter;stroke-width:1.5;\"/>\n   </g>\n   <g id=\"patch_19\">\n    <path clip-path=\"url(#p318e017dc2)\" d=\"M 224.387376 99.351902 \nC 227.129603 99.351902 229.759885 98.262404 231.698933 96.323357 \nC 233.63798 94.384309 234.727479 91.754027 234.727479 89.0118 \nC 234.727479 86.269573 233.63798 83.639291 231.698933 81.700243 \nC 229.759885 79.761196 227.129603 78.671697 224.387376 78.671697 \nC 221.645149 78.671697 219.014867 79.761196 217.07582 81.700243 \nC 215.136772 83.639291 214.047274 86.269573 214.047274 89.0118 \nC 214.047274 91.754027 215.136772 94.384309 217.07582 96.323357 \nC 219.014867 98.262404 221.645149 99.351902 224.387376 99.351902 \nz\n\" style=\"fill:#002d9c;stroke:#002d9c;stroke-linejoin:miter;stroke-width:2;\"/>\n   </g>\n   <g id=\"patch_20\">\n    <path clip-path=\"url(#p318e017dc2)\" d=\"M 269.838376 93.443272 \nC 271.013616 93.443272 272.14088 92.976345 272.971901 92.145324 \nC 273.802921 91.314304 274.269849 90.18704 274.269849 89.0118 \nC 274.269849 87.83656 273.802921 86.709296 272.971901 85.878276 \nC 272.14088 85.047255 271.013616 84.580327 269.838376 84.580327 \nC 268.663136 84.580327 267.535872 85.047255 266.704852 85.878276 \nC 265.873832 86.709296 265.406904 87.83656 265.406904 89.0118 \nC 265.406904 90.18704 265.873832 91.314304 266.704852 92.145324 \nC 267.535872 92.976345 268.663136 93.443272 269.838376 93.443272 \nz\n\" style=\"fill:#002d9c;stroke:#002d9c;stroke-linejoin:miter;stroke-width:1.5;\"/>\n   </g>\n   <g id=\"patch_21\">\n    <path clip-path=\"url(#p318e017dc2)\" d=\"M 269.838376 144.802903 \nC 272.580603 144.802903 275.210885 143.713404 277.149933 141.774357 \nC 279.08898 139.835309 280.178479 137.205027 280.178479 134.4628 \nC 280.178479 131.720573 279.08898 129.090291 277.149933 127.151243 \nC 275.210885 125.212196 272.580603 124.122698 269.838376 124.122698 \nC 267.096149 124.122698 264.465867 125.212196 262.52682 127.151243 \nC 260.587772 129.090291 259.498274 131.720573 259.498274 134.4628 \nC 259.498274 137.205027 260.587772 139.835309 262.52682 141.774357 \nC 264.465867 143.713404 267.096149 144.802903 269.838376 144.802903 \nz\n\" style=\"fill:#002d9c;stroke:#002d9c;stroke-linejoin:miter;stroke-width:2;\"/>\n   </g>\n   <g id=\"patch_22\">\n    <path clip-path=\"url(#p318e017dc2)\" d=\"M 315.289376 138.894273 \nC 316.464616 138.894273 317.59188 138.427345 318.422901 137.596324 \nC 319.253921 136.765304 319.720849 135.63804 319.720849 134.4628 \nC 319.720849 133.28756 319.253921 132.160296 318.422901 131.329276 \nC 317.59188 130.498255 316.464616 130.031328 315.289376 130.031328 \nC 314.114136 130.031328 312.986872 130.498255 312.155852 131.329276 \nC 311.324832 132.160296 310.857904 133.28756 310.857904 134.4628 \nC 310.857904 135.63804 311.324832 136.765304 312.155852 137.596324 \nC 312.986872 138.427345 314.114136 138.894273 315.289376 138.894273 \nz\n\" style=\"fill:#002d9c;stroke:#002d9c;stroke-linejoin:miter;stroke-width:1.5;\"/>\n   </g>\n   <g id=\"patch_23\">\n    <path clip-path=\"url(#p318e017dc2)\" d=\"M 315.289376 190.253903 \nC 318.031603 190.253903 320.661885 189.164404 322.600933 187.225357 \nC 324.53998 185.286309 325.629479 182.656027 325.629479 179.9138 \nC 325.629479 177.171573 324.53998 174.541291 322.600933 172.602243 \nC 320.661885 170.663196 318.031603 169.573698 315.289376 169.573698 \nC 312.547149 169.573698 309.916867 170.663196 307.97782 172.602243 \nC 306.038772 174.541291 304.949274 177.171573 304.949274 179.9138 \nC 304.949274 182.656027 306.038772 185.286309 307.97782 187.225357 \nC 309.916867 189.164404 312.547149 190.253903 315.289376 190.253903 \nz\n\" style=\"fill:#002d9c;stroke:#002d9c;stroke-linejoin:miter;stroke-width:2;\"/>\n   </g>\n   <g id=\"patch_24\">\n    <path clip-path=\"url(#p318e017dc2)\" d=\"M 391.419801 58.332375 \nL 420.962951 58.332375 \nL 420.962951 28.789225 \nL 391.419801 28.789225 \nz\n\" style=\"fill:#9f1853;stroke:#9f1853;stroke-linejoin:miter;stroke-width:1.5;\"/>\n   </g>\n   <g id=\"patch_25\">\n    <path clip-path=\"url(#p318e017dc2)\" d=\"M 391.419801 103.783375 \nL 420.962951 103.783375 \nL 420.962951 74.240225 \nL 391.419801 74.240225 \nz\n\" style=\"fill:#9f1853;stroke:#9f1853;stroke-linejoin:miter;stroke-width:1.5;\"/>\n   </g>\n   <g id=\"patch_26\">\n    <path clip-path=\"url(#p318e017dc2)\" d=\"M 391.419801 149.234375 \nL 420.962951 149.234375 \nL 420.962951 119.691225 \nL 391.419801 119.691225 \nz\n\" style=\"fill:#9f1853;stroke:#9f1853;stroke-linejoin:miter;stroke-width:1.5;\"/>\n   </g>\n   <g id=\"patch_27\">\n    <path clip-path=\"url(#p318e017dc2)\" d=\"M 391.419801 194.685375 \nL 420.962951 194.685375 \nL 420.962951 165.142225 \nL 391.419801 165.142225 \nz\n\" style=\"fill:#9f1853;stroke:#9f1853;stroke-linejoin:miter;stroke-width:1.5;\"/>\n   </g>\n   <g id=\"patch_28\">\n    <path clip-path=\"url(#p318e017dc2)\" d=\"M 436.870801 58.332375 \nL 466.413951 58.332375 \nL 466.413951 28.789225 \nL 436.870801 28.789225 \nz\n\" style=\"fill:#9f1853;stroke:#9f1853;stroke-linejoin:miter;stroke-width:1.5;\"/>\n   </g>\n   <g id=\"patch_29\">\n    <path clip-path=\"url(#p318e017dc2)\" d=\"M 436.870801 103.783375 \nL 466.413951 103.783375 \nL 466.413951 74.240225 \nL 436.870801 74.240225 \nz\n\" style=\"fill:#9f1853;stroke:#9f1853;stroke-linejoin:miter;stroke-width:1.5;\"/>\n   </g>\n   <g id=\"patch_30\">\n    <path clip-path=\"url(#p318e017dc2)\" d=\"M 436.870801 149.234375 \nL 466.413951 149.234375 \nL 466.413951 119.691225 \nL 436.870801 119.691225 \nz\n\" style=\"fill:#9f1853;stroke:#9f1853;stroke-linejoin:miter;stroke-width:1.5;\"/>\n   </g>\n   <g id=\"patch_31\">\n    <path clip-path=\"url(#p318e017dc2)\" d=\"M 436.870801 194.685375 \nL 466.413951 194.685375 \nL 466.413951 165.142225 \nL 436.870801 165.142225 \nz\n\" style=\"fill:#9f1853;stroke:#9f1853;stroke-linejoin:miter;stroke-width:1.5;\"/>\n   </g>\n   <g id=\"line2d_8\">\n    <path clip-path=\"url(#p318e017dc2)\" d=\"M 178.936376 20.8353 \nL 178.936376 66.2863 \n\" style=\"fill:none;stroke:#000000;stroke-dasharray:3.7,1.6;stroke-dashoffset:0;\"/>\n   </g>\n   <g id=\"line2d_9\">\n    <path clip-path=\"url(#p318e017dc2)\" d=\"M 178.936376 66.2863 \nL 178.936376 111.7373 \n\" style=\"fill:none;stroke:#000000;stroke-dasharray:3.7,1.6;stroke-dashoffset:0;\"/>\n   </g>\n   <g id=\"line2d_10\">\n    <path clip-path=\"url(#p318e017dc2)\" d=\"M 178.936376 111.7373 \nL 178.936376 157.1883 \n\" style=\"fill:none;stroke:#000000;stroke-dasharray:3.7,1.6;stroke-dashoffset:0;\"/>\n   </g>\n   <g id=\"line2d_11\">\n    <path clip-path=\"url(#p318e017dc2)\" d=\"M 178.936376 157.1883 \nL 178.936376 202.6393 \n\" style=\"fill:none;stroke:#000000;stroke-dasharray:3.7,1.6;stroke-dashoffset:0;\"/>\n   </g>\n   <g id=\"line2d_12\">\n    <path clip-path=\"url(#p318e017dc2)\" d=\"M 224.387376 94.92043 \nL 224.387376 83.10317 \n\" style=\"fill:none;stroke:#ffffff;stroke-linecap:square;stroke-width:2;\"/>\n   </g>\n   <g id=\"line2d_13\">\n    <path clip-path=\"url(#p318e017dc2)\" d=\"M 218.478746 89.0118 \nL 230.296006 89.0118 \n\" style=\"fill:none;stroke:#ffffff;stroke-linecap:square;stroke-width:2;\"/>\n   </g>\n   <g id=\"line2d_14\">\n    <path clip-path=\"url(#p318e017dc2)\" d=\"M 269.838376 140.37143 \nL 269.838376 128.55417 \n\" style=\"fill:none;stroke:#ffffff;stroke-linecap:square;stroke-width:2;\"/>\n   </g>\n   <g id=\"line2d_15\">\n    <path clip-path=\"url(#p318e017dc2)\" d=\"M 263.929746 134.4628 \nL 275.747006 134.4628 \n\" style=\"fill:none;stroke:#ffffff;stroke-linecap:square;stroke-width:2;\"/>\n   </g>\n   <g id=\"line2d_16\">\n    <path clip-path=\"url(#p318e017dc2)\" d=\"M 315.289376 185.82243 \nL 315.289376 174.00517 \n\" style=\"fill:none;stroke:#ffffff;stroke-linecap:square;stroke-width:2;\"/>\n   </g>\n   <g id=\"line2d_17\">\n    <path clip-path=\"url(#p318e017dc2)\" d=\"M 309.380746 179.9138 \nL 321.198006 179.9138 \n\" style=\"fill:none;stroke:#ffffff;stroke-linecap:square;stroke-width:2;\"/>\n   </g>\n   <g id=\"line2d_18\">\n    <path clip-path=\"url(#p318e017dc2)\" d=\"M 360.740376 20.8353 \nL 360.740376 66.2863 \n\" style=\"fill:none;stroke:#000000;stroke-dasharray:3.7,1.6;stroke-dashoffset:0;\"/>\n   </g>\n   <g id=\"line2d_19\">\n    <path clip-path=\"url(#p318e017dc2)\" d=\"M 360.740376 66.2863 \nL 360.740376 111.7373 \n\" style=\"fill:none;stroke:#000000;stroke-dasharray:3.7,1.6;stroke-dashoffset:0;\"/>\n   </g>\n   <g id=\"line2d_20\">\n    <path clip-path=\"url(#p318e017dc2)\" d=\"M 360.740376 111.7373 \nL 360.740376 157.1883 \n\" style=\"fill:none;stroke:#000000;stroke-dasharray:3.7,1.6;stroke-dashoffset:0;\"/>\n   </g>\n   <g id=\"line2d_21\">\n    <path clip-path=\"url(#p318e017dc2)\" d=\"M 360.740376 157.1883 \nL 360.740376 202.6393 \n\" style=\"fill:none;stroke:#000000;stroke-dasharray:3.7,1.6;stroke-dashoffset:0;\"/>\n   </g>\n   <g id=\"text_1\">\n    <g clip-path=\"url(#p318e017dc2)\">\n     <!-- $\\mathrm{R}_\\mathrm{Y}$ -->\n     <g style=\"fill:#ffffff;\" transform=\"translate(80.494376 42.716515)scale(0.13 -0.13)\">\n      <defs>\n       <path d=\"M 2841 2188 \nQ 3044 2119 3236 1894 \nQ 3428 1669 3622 1275 \nL 4263 0 \nL 3584 0 \nL 2988 1197 \nQ 2756 1666 2539 1819 \nQ 2322 1972 1947 1972 \nL 1259 1972 \nL 1259 0 \nL 628 0 \nL 628 4666 \nL 2053 4666 \nQ 2853 4666 3247 4331 \nQ 3641 3997 3641 3322 \nQ 3641 2881 3436 2590 \nQ 3231 2300 2841 2188 \nz\nM 1259 4147 \nL 1259 2491 \nL 2053 2491 \nQ 2509 2491 2742 2702 \nQ 2975 2913 2975 3322 \nQ 2975 3731 2742 3939 \nQ 2509 4147 2053 4147 \nL 1259 4147 \nz\n\" id=\"DejaVuSans-52\" transform=\"scale(0.015625)\"/>\n       <path d=\"M -13 4666 \nL 666 4666 \nL 1959 2747 \nL 3244 4666 \nL 3922 4666 \nL 2272 2222 \nL 2272 0 \nL 1638 0 \nL 1638 2222 \nL -13 4666 \nz\n\" id=\"DejaVuSans-59\" transform=\"scale(0.015625)\"/>\n      </defs>\n      <use transform=\"translate(0 0.09375)\" xlink:href=\"#DejaVuSans-52\"/>\n      <use transform=\"translate(70.439453 -16.3125)scale(0.7)\" xlink:href=\"#DejaVuSans-59\"/>\n     </g>\n    </g>\n   </g>\n   <g id=\"text_2\">\n    <g clip-path=\"url(#p318e017dc2)\">\n     <!-- θ[0] -->\n     <g style=\"fill:#ffffff;\" transform=\"translate(79.920626 54.631245)scale(0.08 -0.08)\">\n      <defs>\n       <path d=\"M 2953 2219 \nL 963 2219 \nQ 1009 1284 1225 888 \nQ 1494 400 1959 400 \nQ 2428 400 2688 891 \nQ 2916 1322 2953 2219 \nz\nM 2944 2750 \nQ 2856 3638 2688 3950 \nQ 2419 4444 1959 4444 \nQ 1481 4444 1228 3956 \nQ 1028 3563 969 2750 \nL 2944 2750 \nz\nM 1959 4913 \nQ 2709 4913 3138 4250 \nQ 3566 3591 3566 2422 \nQ 3566 1256 3138 594 \nQ 2709 -72 1959 -72 \nQ 1206 -72 781 594 \nQ 353 1256 353 2422 \nQ 353 3591 781 4250 \nQ 1206 4913 1959 4913 \nz\n\" id=\"DejaVuSans-3b8\" transform=\"scale(0.015625)\"/>\n       <path d=\"M 550 4863 \nL 1875 4863 \nL 1875 4416 \nL 1125 4416 \nL 1125 -397 \nL 1875 -397 \nL 1875 -844 \nL 550 -844 \nL 550 4863 \nz\n\" id=\"DejaVuSans-5b\" transform=\"scale(0.015625)\"/>\n       <path d=\"M 2034 4250 \nQ 1547 4250 1301 3770 \nQ 1056 3291 1056 2328 \nQ 1056 1369 1301 889 \nQ 1547 409 2034 409 \nQ 2525 409 2770 889 \nQ 3016 1369 3016 2328 \nQ 3016 3291 2770 3770 \nQ 2525 4250 2034 4250 \nz\nM 2034 4750 \nQ 2819 4750 3233 4129 \nQ 3647 3509 3647 2328 \nQ 3647 1150 3233 529 \nQ 2819 -91 2034 -91 \nQ 1250 -91 836 529 \nQ 422 1150 422 2328 \nQ 422 3509 836 4129 \nQ 1250 4750 2034 4750 \nz\n\" id=\"DejaVuSans-30\" transform=\"scale(0.015625)\"/>\n       <path d=\"M 1947 4863 \nL 1947 -844 \nL 622 -844 \nL 622 -397 \nL 1369 -397 \nL 1369 4416 \nL 622 4416 \nL 622 4863 \nL 1947 4863 \nz\n\" id=\"DejaVuSans-5d\" transform=\"scale(0.015625)\"/>\n      </defs>\n      <use xlink:href=\"#DejaVuSans-3b8\"/>\n      <use x=\"61.181641\" xlink:href=\"#DejaVuSans-5b\"/>\n      <use x=\"100.195312\" xlink:href=\"#DejaVuSans-30\"/>\n      <use x=\"163.818359\" xlink:href=\"#DejaVuSans-5d\"/>\n     </g>\n    </g>\n   </g>\n   <g id=\"text_3\">\n    <g clip-path=\"url(#p318e017dc2)\">\n     <!-- $\\mathrm{R}_\\mathrm{Y}$ -->\n     <g style=\"fill:#ffffff;\" transform=\"translate(80.494376 88.167515)scale(0.13 -0.13)\">\n      <use transform=\"translate(0 0.09375)\" xlink:href=\"#DejaVuSans-52\"/>\n      <use transform=\"translate(70.439453 -16.3125)scale(0.7)\" xlink:href=\"#DejaVuSans-59\"/>\n     </g>\n    </g>\n   </g>\n   <g id=\"text_4\">\n    <g clip-path=\"url(#p318e017dc2)\">\n     <!-- θ[1] -->\n     <g style=\"fill:#ffffff;\" transform=\"translate(79.920626 100.082245)scale(0.08 -0.08)\">\n      <defs>\n       <path d=\"M 794 531 \nL 1825 531 \nL 1825 4091 \nL 703 3866 \nL 703 4441 \nL 1819 4666 \nL 2450 4666 \nL 2450 531 \nL 3481 531 \nL 3481 0 \nL 794 0 \nL 794 531 \nz\n\" id=\"DejaVuSans-31\" transform=\"scale(0.015625)\"/>\n      </defs>\n      <use xlink:href=\"#DejaVuSans-3b8\"/>\n      <use x=\"61.181641\" xlink:href=\"#DejaVuSans-5b\"/>\n      <use x=\"100.195312\" xlink:href=\"#DejaVuSans-31\"/>\n      <use x=\"163.818359\" xlink:href=\"#DejaVuSans-5d\"/>\n     </g>\n    </g>\n   </g>\n   <g id=\"text_5\">\n    <g clip-path=\"url(#p318e017dc2)\">\n     <!-- $\\mathrm{R}_\\mathrm{Y}$ -->\n     <g style=\"fill:#ffffff;\" transform=\"translate(80.494376 133.618515)scale(0.13 -0.13)\">\n      <use transform=\"translate(0 0.09375)\" xlink:href=\"#DejaVuSans-52\"/>\n      <use transform=\"translate(70.439453 -16.3125)scale(0.7)\" xlink:href=\"#DejaVuSans-59\"/>\n     </g>\n    </g>\n   </g>\n   <g id=\"text_6\">\n    <g clip-path=\"url(#p318e017dc2)\">\n     <!-- θ[2] -->\n     <g style=\"fill:#ffffff;\" transform=\"translate(79.920626 145.533245)scale(0.08 -0.08)\">\n      <defs>\n       <path d=\"M 1228 531 \nL 3431 531 \nL 3431 0 \nL 469 0 \nL 469 531 \nQ 828 903 1448 1529 \nQ 2069 2156 2228 2338 \nQ 2531 2678 2651 2914 \nQ 2772 3150 2772 3378 \nQ 2772 3750 2511 3984 \nQ 2250 4219 1831 4219 \nQ 1534 4219 1204 4116 \nQ 875 4013 500 3803 \nL 500 4441 \nQ 881 4594 1212 4672 \nQ 1544 4750 1819 4750 \nQ 2544 4750 2975 4387 \nQ 3406 4025 3406 3419 \nQ 3406 3131 3298 2873 \nQ 3191 2616 2906 2266 \nQ 2828 2175 2409 1742 \nQ 1991 1309 1228 531 \nz\n\" id=\"DejaVuSans-32\" transform=\"scale(0.015625)\"/>\n      </defs>\n      <use xlink:href=\"#DejaVuSans-3b8\"/>\n      <use x=\"61.181641\" xlink:href=\"#DejaVuSans-5b\"/>\n      <use x=\"100.195312\" xlink:href=\"#DejaVuSans-32\"/>\n      <use x=\"163.818359\" xlink:href=\"#DejaVuSans-5d\"/>\n     </g>\n    </g>\n   </g>\n   <g id=\"text_7\">\n    <g clip-path=\"url(#p318e017dc2)\">\n     <!-- $\\mathrm{R}_\\mathrm{Y}$ -->\n     <g style=\"fill:#ffffff;\" transform=\"translate(80.494376 179.069515)scale(0.13 -0.13)\">\n      <use transform=\"translate(0 0.09375)\" xlink:href=\"#DejaVuSans-52\"/>\n      <use transform=\"translate(70.439453 -16.3125)scale(0.7)\" xlink:href=\"#DejaVuSans-59\"/>\n     </g>\n    </g>\n   </g>\n   <g id=\"text_8\">\n    <g clip-path=\"url(#p318e017dc2)\">\n     <!-- θ[3] -->\n     <g style=\"fill:#ffffff;\" transform=\"translate(79.920626 190.984245)scale(0.08 -0.08)\">\n      <defs>\n       <path d=\"M 2597 2516 \nQ 3050 2419 3304 2112 \nQ 3559 1806 3559 1356 \nQ 3559 666 3084 287 \nQ 2609 -91 1734 -91 \nQ 1441 -91 1130 -33 \nQ 819 25 488 141 \nL 488 750 \nQ 750 597 1062 519 \nQ 1375 441 1716 441 \nQ 2309 441 2620 675 \nQ 2931 909 2931 1356 \nQ 2931 1769 2642 2001 \nQ 2353 2234 1838 2234 \nL 1294 2234 \nL 1294 2753 \nL 1863 2753 \nQ 2328 2753 2575 2939 \nQ 2822 3125 2822 3475 \nQ 2822 3834 2567 4026 \nQ 2313 4219 1838 4219 \nQ 1578 4219 1281 4162 \nQ 984 4106 628 3988 \nL 628 4550 \nQ 988 4650 1302 4700 \nQ 1616 4750 1894 4750 \nQ 2613 4750 3031 4423 \nQ 3450 4097 3450 3541 \nQ 3450 3153 3228 2886 \nQ 3006 2619 2597 2516 \nz\n\" id=\"DejaVuSans-33\" transform=\"scale(0.015625)\"/>\n      </defs>\n      <use xlink:href=\"#DejaVuSans-3b8\"/>\n      <use x=\"61.181641\" xlink:href=\"#DejaVuSans-5b\"/>\n      <use x=\"100.195312\" xlink:href=\"#DejaVuSans-33\"/>\n      <use x=\"163.818359\" xlink:href=\"#DejaVuSans-5d\"/>\n     </g>\n    </g>\n   </g>\n   <g id=\"text_9\">\n    <g clip-path=\"url(#p318e017dc2)\">\n     <!-- $\\mathrm{R}_\\mathrm{Z}$ -->\n     <g style=\"fill:#ffffff;\" transform=\"translate(125.555376 42.716515)scale(0.13 -0.13)\">\n      <defs>\n       <path d=\"M 359 4666 \nL 4025 4666 \nL 4025 4184 \nL 1075 531 \nL 4097 531 \nL 4097 0 \nL 288 0 \nL 288 481 \nL 3238 4134 \nL 359 4134 \nL 359 4666 \nz\n\" id=\"DejaVuSans-5a\" transform=\"scale(0.015625)\"/>\n      </defs>\n      <use transform=\"translate(0 0.09375)\" xlink:href=\"#DejaVuSans-52\"/>\n      <use transform=\"translate(70.439453 -16.3125)scale(0.7)\" xlink:href=\"#DejaVuSans-5a\"/>\n     </g>\n    </g>\n   </g>\n   <g id=\"text_10\">\n    <g clip-path=\"url(#p318e017dc2)\">\n     <!-- θ[4] -->\n     <g style=\"fill:#ffffff;\" transform=\"translate(125.371626 54.631245)scale(0.08 -0.08)\">\n      <defs>\n       <path d=\"M 2419 4116 \nL 825 1625 \nL 2419 1625 \nL 2419 4116 \nz\nM 2253 4666 \nL 3047 4666 \nL 3047 1625 \nL 3713 1625 \nL 3713 1100 \nL 3047 1100 \nL 3047 0 \nL 2419 0 \nL 2419 1100 \nL 313 1100 \nL 313 1709 \nL 2253 4666 \nz\n\" id=\"DejaVuSans-34\" transform=\"scale(0.015625)\"/>\n      </defs>\n      <use xlink:href=\"#DejaVuSans-3b8\"/>\n      <use x=\"61.181641\" xlink:href=\"#DejaVuSans-5b\"/>\n      <use x=\"100.195312\" xlink:href=\"#DejaVuSans-34\"/>\n      <use x=\"163.818359\" xlink:href=\"#DejaVuSans-5d\"/>\n     </g>\n    </g>\n   </g>\n   <g id=\"text_11\">\n    <g clip-path=\"url(#p318e017dc2)\">\n     <!-- $\\mathrm{R}_\\mathrm{Z}$ -->\n     <g style=\"fill:#ffffff;\" transform=\"translate(125.555376 88.167515)scale(0.13 -0.13)\">\n      <use transform=\"translate(0 0.09375)\" xlink:href=\"#DejaVuSans-52\"/>\n      <use transform=\"translate(70.439453 -16.3125)scale(0.7)\" xlink:href=\"#DejaVuSans-5a\"/>\n     </g>\n    </g>\n   </g>\n   <g id=\"text_12\">\n    <g clip-path=\"url(#p318e017dc2)\">\n     <!-- θ[5] -->\n     <g style=\"fill:#ffffff;\" transform=\"translate(125.371626 100.082245)scale(0.08 -0.08)\">\n      <defs>\n       <path d=\"M 691 4666 \nL 3169 4666 \nL 3169 4134 \nL 1269 4134 \nL 1269 2991 \nQ 1406 3038 1543 3061 \nQ 1681 3084 1819 3084 \nQ 2600 3084 3056 2656 \nQ 3513 2228 3513 1497 \nQ 3513 744 3044 326 \nQ 2575 -91 1722 -91 \nQ 1428 -91 1123 -41 \nQ 819 9 494 109 \nL 494 744 \nQ 775 591 1075 516 \nQ 1375 441 1709 441 \nQ 2250 441 2565 725 \nQ 2881 1009 2881 1497 \nQ 2881 1984 2565 2268 \nQ 2250 2553 1709 2553 \nQ 1456 2553 1204 2497 \nQ 953 2441 691 2322 \nL 691 4666 \nz\n\" id=\"DejaVuSans-35\" transform=\"scale(0.015625)\"/>\n      </defs>\n      <use xlink:href=\"#DejaVuSans-3b8\"/>\n      <use x=\"61.181641\" xlink:href=\"#DejaVuSans-5b\"/>\n      <use x=\"100.195312\" xlink:href=\"#DejaVuSans-35\"/>\n      <use x=\"163.818359\" xlink:href=\"#DejaVuSans-5d\"/>\n     </g>\n    </g>\n   </g>\n   <g id=\"text_13\">\n    <g clip-path=\"url(#p318e017dc2)\">\n     <!-- $\\mathrm{R}_\\mathrm{Z}$ -->\n     <g style=\"fill:#ffffff;\" transform=\"translate(125.555376 133.618515)scale(0.13 -0.13)\">\n      <use transform=\"translate(0 0.09375)\" xlink:href=\"#DejaVuSans-52\"/>\n      <use transform=\"translate(70.439453 -16.3125)scale(0.7)\" xlink:href=\"#DejaVuSans-5a\"/>\n     </g>\n    </g>\n   </g>\n   <g id=\"text_14\">\n    <g clip-path=\"url(#p318e017dc2)\">\n     <!-- θ[6] -->\n     <g style=\"fill:#ffffff;\" transform=\"translate(125.371626 145.533245)scale(0.08 -0.08)\">\n      <defs>\n       <path d=\"M 2113 2584 \nQ 1688 2584 1439 2293 \nQ 1191 2003 1191 1497 \nQ 1191 994 1439 701 \nQ 1688 409 2113 409 \nQ 2538 409 2786 701 \nQ 3034 994 3034 1497 \nQ 3034 2003 2786 2293 \nQ 2538 2584 2113 2584 \nz\nM 3366 4563 \nL 3366 3988 \nQ 3128 4100 2886 4159 \nQ 2644 4219 2406 4219 \nQ 1781 4219 1451 3797 \nQ 1122 3375 1075 2522 \nQ 1259 2794 1537 2939 \nQ 1816 3084 2150 3084 \nQ 2853 3084 3261 2657 \nQ 3669 2231 3669 1497 \nQ 3669 778 3244 343 \nQ 2819 -91 2113 -91 \nQ 1303 -91 875 529 \nQ 447 1150 447 2328 \nQ 447 3434 972 4092 \nQ 1497 4750 2381 4750 \nQ 2619 4750 2861 4703 \nQ 3103 4656 3366 4563 \nz\n\" id=\"DejaVuSans-36\" transform=\"scale(0.015625)\"/>\n      </defs>\n      <use xlink:href=\"#DejaVuSans-3b8\"/>\n      <use x=\"61.181641\" xlink:href=\"#DejaVuSans-5b\"/>\n      <use x=\"100.195312\" xlink:href=\"#DejaVuSans-36\"/>\n      <use x=\"163.818359\" xlink:href=\"#DejaVuSans-5d\"/>\n     </g>\n    </g>\n   </g>\n   <g id=\"text_15\">\n    <g clip-path=\"url(#p318e017dc2)\">\n     <!-- $\\mathrm{R}_\\mathrm{Z}$ -->\n     <g style=\"fill:#ffffff;\" transform=\"translate(125.555376 179.069515)scale(0.13 -0.13)\">\n      <use transform=\"translate(0 0.09375)\" xlink:href=\"#DejaVuSans-52\"/>\n      <use transform=\"translate(70.439453 -16.3125)scale(0.7)\" xlink:href=\"#DejaVuSans-5a\"/>\n     </g>\n    </g>\n   </g>\n   <g id=\"text_16\">\n    <g clip-path=\"url(#p318e017dc2)\">\n     <!-- θ[7] -->\n     <g style=\"fill:#ffffff;\" transform=\"translate(125.371626 190.984245)scale(0.08 -0.08)\">\n      <defs>\n       <path d=\"M 525 4666 \nL 3525 4666 \nL 3525 4397 \nL 1831 0 \nL 1172 0 \nL 2766 4134 \nL 525 4134 \nL 525 4666 \nz\n\" id=\"DejaVuSans-37\" transform=\"scale(0.015625)\"/>\n      </defs>\n      <use xlink:href=\"#DejaVuSans-3b8\"/>\n      <use x=\"61.181641\" xlink:href=\"#DejaVuSans-5b\"/>\n      <use x=\"100.195312\" xlink:href=\"#DejaVuSans-37\"/>\n      <use x=\"163.818359\" xlink:href=\"#DejaVuSans-5d\"/>\n     </g>\n    </g>\n   </g>\n   <g id=\"text_17\">\n    <g clip-path=\"url(#p318e017dc2)\">\n     <!-- $\\mathrm{R}_\\mathrm{Y}$ -->\n     <g style=\"fill:#ffffff;\" transform=\"translate(398.651376 42.716515)scale(0.13 -0.13)\">\n      <use transform=\"translate(0 0.09375)\" xlink:href=\"#DejaVuSans-52\"/>\n      <use transform=\"translate(70.439453 -16.3125)scale(0.7)\" xlink:href=\"#DejaVuSans-59\"/>\n     </g>\n    </g>\n   </g>\n   <g id=\"text_18\">\n    <g clip-path=\"url(#p318e017dc2)\">\n     <!-- θ[8] -->\n     <g style=\"fill:#ffffff;\" transform=\"translate(398.077626 54.631245)scale(0.08 -0.08)\">\n      <defs>\n       <path d=\"M 2034 2216 \nQ 1584 2216 1326 1975 \nQ 1069 1734 1069 1313 \nQ 1069 891 1326 650 \nQ 1584 409 2034 409 \nQ 2484 409 2743 651 \nQ 3003 894 3003 1313 \nQ 3003 1734 2745 1975 \nQ 2488 2216 2034 2216 \nz\nM 1403 2484 \nQ 997 2584 770 2862 \nQ 544 3141 544 3541 \nQ 544 4100 942 4425 \nQ 1341 4750 2034 4750 \nQ 2731 4750 3128 4425 \nQ 3525 4100 3525 3541 \nQ 3525 3141 3298 2862 \nQ 3072 2584 2669 2484 \nQ 3125 2378 3379 2068 \nQ 3634 1759 3634 1313 \nQ 3634 634 3220 271 \nQ 2806 -91 2034 -91 \nQ 1263 -91 848 271 \nQ 434 634 434 1313 \nQ 434 1759 690 2068 \nQ 947 2378 1403 2484 \nz\nM 1172 3481 \nQ 1172 3119 1398 2916 \nQ 1625 2713 2034 2713 \nQ 2441 2713 2670 2916 \nQ 2900 3119 2900 3481 \nQ 2900 3844 2670 4047 \nQ 2441 4250 2034 4250 \nQ 1625 4250 1398 4047 \nQ 1172 3844 1172 3481 \nz\n\" id=\"DejaVuSans-38\" transform=\"scale(0.015625)\"/>\n      </defs>\n      <use xlink:href=\"#DejaVuSans-3b8\"/>\n      <use x=\"61.181641\" xlink:href=\"#DejaVuSans-5b\"/>\n      <use x=\"100.195312\" xlink:href=\"#DejaVuSans-38\"/>\n      <use x=\"163.818359\" xlink:href=\"#DejaVuSans-5d\"/>\n     </g>\n    </g>\n   </g>\n   <g id=\"text_19\">\n    <g clip-path=\"url(#p318e017dc2)\">\n     <!-- $\\mathrm{R}_\\mathrm{Y}$ -->\n     <g style=\"fill:#ffffff;\" transform=\"translate(398.651376 88.167515)scale(0.13 -0.13)\">\n      <use transform=\"translate(0 0.09375)\" xlink:href=\"#DejaVuSans-52\"/>\n      <use transform=\"translate(70.439453 -16.3125)scale(0.7)\" xlink:href=\"#DejaVuSans-59\"/>\n     </g>\n    </g>\n   </g>\n   <g id=\"text_20\">\n    <g clip-path=\"url(#p318e017dc2)\">\n     <!-- θ[9] -->\n     <g style=\"fill:#ffffff;\" transform=\"translate(398.077626 100.082245)scale(0.08 -0.08)\">\n      <defs>\n       <path d=\"M 703 97 \nL 703 672 \nQ 941 559 1184 500 \nQ 1428 441 1663 441 \nQ 2288 441 2617 861 \nQ 2947 1281 2994 2138 \nQ 2813 1869 2534 1725 \nQ 2256 1581 1919 1581 \nQ 1219 1581 811 2004 \nQ 403 2428 403 3163 \nQ 403 3881 828 4315 \nQ 1253 4750 1959 4750 \nQ 2769 4750 3195 4129 \nQ 3622 3509 3622 2328 \nQ 3622 1225 3098 567 \nQ 2575 -91 1691 -91 \nQ 1453 -91 1209 -44 \nQ 966 3 703 97 \nz\nM 1959 2075 \nQ 2384 2075 2632 2365 \nQ 2881 2656 2881 3163 \nQ 2881 3666 2632 3958 \nQ 2384 4250 1959 4250 \nQ 1534 4250 1286 3958 \nQ 1038 3666 1038 3163 \nQ 1038 2656 1286 2365 \nQ 1534 2075 1959 2075 \nz\n\" id=\"DejaVuSans-39\" transform=\"scale(0.015625)\"/>\n      </defs>\n      <use xlink:href=\"#DejaVuSans-3b8\"/>\n      <use x=\"61.181641\" xlink:href=\"#DejaVuSans-5b\"/>\n      <use x=\"100.195312\" xlink:href=\"#DejaVuSans-39\"/>\n      <use x=\"163.818359\" xlink:href=\"#DejaVuSans-5d\"/>\n     </g>\n    </g>\n   </g>\n   <g id=\"text_21\">\n    <g clip-path=\"url(#p318e017dc2)\">\n     <!-- $\\mathrm{R}_\\mathrm{Y}$ -->\n     <g style=\"fill:#ffffff;\" transform=\"translate(398.651376 133.618515)scale(0.13 -0.13)\">\n      <use transform=\"translate(0 0.09375)\" xlink:href=\"#DejaVuSans-52\"/>\n      <use transform=\"translate(70.439453 -16.3125)scale(0.7)\" xlink:href=\"#DejaVuSans-59\"/>\n     </g>\n    </g>\n   </g>\n   <g id=\"text_22\">\n    <g clip-path=\"url(#p318e017dc2)\">\n     <!-- θ[10] -->\n     <g style=\"fill:#ffffff;\" transform=\"translate(395.532626 145.533245)scale(0.08 -0.08)\">\n      <use xlink:href=\"#DejaVuSans-3b8\"/>\n      <use x=\"61.181641\" xlink:href=\"#DejaVuSans-5b\"/>\n      <use x=\"100.195312\" xlink:href=\"#DejaVuSans-31\"/>\n      <use x=\"163.818359\" xlink:href=\"#DejaVuSans-30\"/>\n      <use x=\"227.441406\" xlink:href=\"#DejaVuSans-5d\"/>\n     </g>\n    </g>\n   </g>\n   <g id=\"text_23\">\n    <g clip-path=\"url(#p318e017dc2)\">\n     <!-- $\\mathrm{R}_\\mathrm{Y}$ -->\n     <g style=\"fill:#ffffff;\" transform=\"translate(398.651376 179.069515)scale(0.13 -0.13)\">\n      <use transform=\"translate(0 0.09375)\" xlink:href=\"#DejaVuSans-52\"/>\n      <use transform=\"translate(70.439453 -16.3125)scale(0.7)\" xlink:href=\"#DejaVuSans-59\"/>\n     </g>\n    </g>\n   </g>\n   <g id=\"text_24\">\n    <g clip-path=\"url(#p318e017dc2)\">\n     <!-- θ[11] -->\n     <g style=\"fill:#ffffff;\" transform=\"translate(395.532626 190.984245)scale(0.08 -0.08)\">\n      <use xlink:href=\"#DejaVuSans-3b8\"/>\n      <use x=\"61.181641\" xlink:href=\"#DejaVuSans-5b\"/>\n      <use x=\"100.195312\" xlink:href=\"#DejaVuSans-31\"/>\n      <use x=\"163.818359\" xlink:href=\"#DejaVuSans-31\"/>\n      <use x=\"227.441406\" xlink:href=\"#DejaVuSans-5d\"/>\n     </g>\n    </g>\n   </g>\n   <g id=\"text_25\">\n    <g clip-path=\"url(#p318e017dc2)\">\n     <!-- $\\mathrm{R}_\\mathrm{Z}$ -->\n     <g style=\"fill:#ffffff;\" transform=\"translate(443.712376 42.716515)scale(0.13 -0.13)\">\n      <use transform=\"translate(0 0.09375)\" xlink:href=\"#DejaVuSans-52\"/>\n      <use transform=\"translate(70.439453 -16.3125)scale(0.7)\" xlink:href=\"#DejaVuSans-5a\"/>\n     </g>\n    </g>\n   </g>\n   <g id=\"text_26\">\n    <g clip-path=\"url(#p318e017dc2)\">\n     <!-- θ[12] -->\n     <g style=\"fill:#ffffff;\" transform=\"translate(440.983626 54.631245)scale(0.08 -0.08)\">\n      <use xlink:href=\"#DejaVuSans-3b8\"/>\n      <use x=\"61.181641\" xlink:href=\"#DejaVuSans-5b\"/>\n      <use x=\"100.195312\" xlink:href=\"#DejaVuSans-31\"/>\n      <use x=\"163.818359\" xlink:href=\"#DejaVuSans-32\"/>\n      <use x=\"227.441406\" xlink:href=\"#DejaVuSans-5d\"/>\n     </g>\n    </g>\n   </g>\n   <g id=\"text_27\">\n    <g clip-path=\"url(#p318e017dc2)\">\n     <!-- $\\mathrm{R}_\\mathrm{Z}$ -->\n     <g style=\"fill:#ffffff;\" transform=\"translate(443.712376 88.167515)scale(0.13 -0.13)\">\n      <use transform=\"translate(0 0.09375)\" xlink:href=\"#DejaVuSans-52\"/>\n      <use transform=\"translate(70.439453 -16.3125)scale(0.7)\" xlink:href=\"#DejaVuSans-5a\"/>\n     </g>\n    </g>\n   </g>\n   <g id=\"text_28\">\n    <g clip-path=\"url(#p318e017dc2)\">\n     <!-- θ[13] -->\n     <g style=\"fill:#ffffff;\" transform=\"translate(440.983626 100.082245)scale(0.08 -0.08)\">\n      <use xlink:href=\"#DejaVuSans-3b8\"/>\n      <use x=\"61.181641\" xlink:href=\"#DejaVuSans-5b\"/>\n      <use x=\"100.195312\" xlink:href=\"#DejaVuSans-31\"/>\n      <use x=\"163.818359\" xlink:href=\"#DejaVuSans-33\"/>\n      <use x=\"227.441406\" xlink:href=\"#DejaVuSans-5d\"/>\n     </g>\n    </g>\n   </g>\n   <g id=\"text_29\">\n    <g clip-path=\"url(#p318e017dc2)\">\n     <!-- $\\mathrm{R}_\\mathrm{Z}$ -->\n     <g style=\"fill:#ffffff;\" transform=\"translate(443.712376 133.618515)scale(0.13 -0.13)\">\n      <use transform=\"translate(0 0.09375)\" xlink:href=\"#DejaVuSans-52\"/>\n      <use transform=\"translate(70.439453 -16.3125)scale(0.7)\" xlink:href=\"#DejaVuSans-5a\"/>\n     </g>\n    </g>\n   </g>\n   <g id=\"text_30\">\n    <g clip-path=\"url(#p318e017dc2)\">\n     <!-- θ[14] -->\n     <g style=\"fill:#ffffff;\" transform=\"translate(440.983626 145.533245)scale(0.08 -0.08)\">\n      <use xlink:href=\"#DejaVuSans-3b8\"/>\n      <use x=\"61.181641\" xlink:href=\"#DejaVuSans-5b\"/>\n      <use x=\"100.195312\" xlink:href=\"#DejaVuSans-31\"/>\n      <use x=\"163.818359\" xlink:href=\"#DejaVuSans-34\"/>\n      <use x=\"227.441406\" xlink:href=\"#DejaVuSans-5d\"/>\n     </g>\n    </g>\n   </g>\n   <g id=\"text_31\">\n    <g clip-path=\"url(#p318e017dc2)\">\n     <!-- $\\mathrm{R}_\\mathrm{Z}$ -->\n     <g style=\"fill:#ffffff;\" transform=\"translate(443.712376 179.069515)scale(0.13 -0.13)\">\n      <use transform=\"translate(0 0.09375)\" xlink:href=\"#DejaVuSans-52\"/>\n      <use transform=\"translate(70.439453 -16.3125)scale(0.7)\" xlink:href=\"#DejaVuSans-5a\"/>\n     </g>\n    </g>\n   </g>\n   <g id=\"text_32\">\n    <g clip-path=\"url(#p318e017dc2)\">\n     <!-- θ[15] -->\n     <g style=\"fill:#ffffff;\" transform=\"translate(440.983626 190.984245)scale(0.08 -0.08)\">\n      <use xlink:href=\"#DejaVuSans-3b8\"/>\n      <use x=\"61.181641\" xlink:href=\"#DejaVuSans-5b\"/>\n      <use x=\"100.195312\" xlink:href=\"#DejaVuSans-31\"/>\n      <use x=\"163.818359\" xlink:href=\"#DejaVuSans-35\"/>\n      <use x=\"227.441406\" xlink:href=\"#DejaVuSans-5d\"/>\n     </g>\n    </g>\n   </g>\n   <g id=\"text_33\">\n    <g clip-path=\"url(#p318e017dc2)\">\n     <!-- ${q}_{0}$ -->\n     <g transform=\"translate(36.363136 48.011777)scale(0.1625 -0.1625)\">\n      <defs>\n       <path d=\"M 2669 525 \nQ 2438 222 2123 65 \nQ 1809 -91 1428 -91 \nQ 897 -91 595 267 \nQ 294 625 294 1253 \nQ 294 1759 480 2231 \nQ 666 2703 1013 3078 \nQ 1238 3322 1530 3453 \nQ 1822 3584 2144 3584 \nQ 2531 3584 2781 3431 \nQ 3031 3278 3144 2969 \nL 3244 3494 \nL 3822 3494 \nL 2888 -1319 \nL 2309 -1319 \nL 2669 525 \nz\nM 891 1338 \nQ 891 875 1084 633 \nQ 1278 391 1644 391 \nQ 2188 391 2572 911 \nQ 2956 1431 2956 2175 \nQ 2956 2625 2757 2864 \nQ 2559 3103 2188 3103 \nQ 1916 3103 1684 2976 \nQ 1453 2850 1281 2606 \nQ 1100 2350 995 2006 \nQ 891 1663 891 1338 \nz\n\" id=\"DejaVuSans-Oblique-71\" transform=\"scale(0.015625)\"/>\n      </defs>\n      <use xlink:href=\"#DejaVuSans-Oblique-71\"/>\n      <use transform=\"translate(63.476562 -16.40625)scale(0.7)\" xlink:href=\"#DejaVuSans-30\"/>\n     </g>\n    </g>\n   </g>\n   <g id=\"text_34\">\n    <g clip-path=\"url(#p318e017dc2)\">\n     <!-- ${q}_{1}$ -->\n     <g transform=\"translate(36.363136 93.462777)scale(0.1625 -0.1625)\">\n      <use xlink:href=\"#DejaVuSans-Oblique-71\"/>\n      <use transform=\"translate(63.476562 -16.40625)scale(0.7)\" xlink:href=\"#DejaVuSans-31\"/>\n     </g>\n    </g>\n   </g>\n   <g id=\"text_35\">\n    <g clip-path=\"url(#p318e017dc2)\">\n     <!-- ${q}_{2}$ -->\n     <g transform=\"translate(36.363136 138.913777)scale(0.1625 -0.1625)\">\n      <use xlink:href=\"#DejaVuSans-Oblique-71\"/>\n      <use transform=\"translate(63.476562 -16.40625)scale(0.7)\" xlink:href=\"#DejaVuSans-32\"/>\n     </g>\n    </g>\n   </g>\n   <g id=\"text_36\">\n    <g clip-path=\"url(#p318e017dc2)\">\n     <!-- ${q}_{3}$ -->\n     <g transform=\"translate(36.363136 184.364777)scale(0.1625 -0.1625)\">\n      <use xlink:href=\"#DejaVuSans-Oblique-71\"/>\n      <use transform=\"translate(63.476562 -16.40625)scale(0.7)\" xlink:href=\"#DejaVuSans-33\"/>\n     </g>\n    </g>\n   </g>\n  </g>\n </g>\n <defs>\n  <clipPath id=\"p318e017dc2\">\n   <rect height=\"199.9844\" width=\"474.440036\" x=\"7.2\" y=\"7.2\"/>\n  </clipPath>\n </defs>\n</svg>\n",
      "image/png": "[encoded data removed]"
     },
     "metadata": {},
     "execution_count": 4
    }
   ],
   "source": [
    "from qiskit.circuit.library import EfficientSU2\n",
    "\n",
    "# the rotation gates are chosen randomly, so we set a seed for reproducibility\n",
    "ansatz = EfficientSU2(num_qubits, reps=1, entanglement='linear', insert_barriers=True) \n",
    "ansatz.draw('mpl', style='iqx')"
   ]
  },
  {
   "cell_type": "code",
   "execution_count": 8,
   "metadata": {},
   "outputs": [],
   "source": [
    "import numpy as np\n",
    "from qiskit.algorithms.optimizers import SPSA\n",
    "\n",
    "optimizer = SPSA(maxiter=50)\n",
    "\n",
    "np.random.seed(10)  # seed for reproducibility\n",
    "initial_point = np.random.random(ansatz.num_parameters)"
   ]
  },
  {
   "cell_type": "code",
   "execution_count": 6,
   "metadata": {},
   "outputs": [],
   "source": [
    "intermediate_info = {\n",
    "    'nfev': [],\n",
    "    'parameters': [],\n",
    "    'energy': [],\n",
    "    'stddev': []\n",
    "}\n",
    "\n",
    "def callback(nfev, parameters, energy, stddev):\n",
    "    # pprint.pprint(json.dumps([nfev, parameters, energy, stddev]))\n",
    "    print(f\"Energy: {energy}\")\n",
    "    intermediate_info['nfev'].append(nfev)\n",
    "    intermediate_info['parameters'].append(parameters)\n",
    "    intermediate_info['energy'].append(energy)\n",
    "    intermediate_info['stddev'].append(stddev)"
   ]
  },
  {
   "source": [
    "# Local VQE"
   ],
   "cell_type": "markdown",
   "metadata": {}
  },
  {
   "cell_type": "code",
   "execution_count": 7,
   "metadata": {},
   "outputs": [],
   "source": [
    "from qiskit.providers.basicaer import QasmSimulatorPy  # local simulator\n",
    "from qiskit.algorithms import VQE\n",
    "\n",
    "local_vqe = VQE(ansatz=ansatz,\n",
    "                optimizer=optimizer,\n",
    "                initial_point=initial_point,\n",
    "                quantum_instance=QasmSimulatorPy(),\n",
    "                callback=callback)"
   ]
  },
  {
   "cell_type": "code",
   "execution_count": 8,
   "metadata": {},
   "outputs": [
    {
     "output_type": "stream",
     "name": "stderr",
     "text": [
      "/usr/local/pip-global/qiskit/utils/run_circuits.py:620: UserWarning: Option max_credits is not used by this backend\n",
      "  return backend.run(circuits, **backend_options, **noise_config, **run_config)\n",
      "Energy: 0.701171875\n",
      "Energy: 0.7890625\n",
      "Energy: 0.9082031250000001\n",
      "Energy: 0.53515625\n",
      "Energy: 0.8671875\n",
      "Energy: 0.529296875\n",
      "Energy: 0.654296875\n",
      "Energy: 0.8984375\n",
      "Energy: 0.677734375\n",
      "Energy: 0.8125\n",
      "Energy: 0.880859375\n",
      "Energy: 0.634765625\n",
      "Energy: 0.8203125\n",
      "Energy: 0.765625\n",
      "Energy: 0.8320312500000001\n",
      "Energy: 0.73828125\n",
      "Energy: 0.90234375\n",
      "Energy: 0.6132812500000001\n",
      "Energy: 0.7265624999999999\n",
      "Energy: 0.826171875\n",
      "Energy: 0.857421875\n",
      "Energy: 0.7656249999999999\n",
      "Energy: 0.8789062499999999\n",
      "Energy: 0.513671875\n",
      "Energy: 0.8886718750000001\n",
      "Energy: 0.46484375\n",
      "Energy: 0.505859375\n",
      "Energy: 0.9179687499999999\n",
      "Energy: 0.548828125\n",
      "Energy: 0.9316406249999999\n",
      "Energy: 0.92578125\n",
      "Energy: 0.55859375\n",
      "Energy: 0.8691406249999999\n",
      "Energy: 0.478515625\n",
      "Energy: 0.662109375\n",
      "Energy: 0.8476562499999999\n",
      "Energy: 0.8808593750000001\n",
      "Energy: 0.486328125\n",
      "Energy: 0.69921875\n",
      "Energy: 0.78515625\n",
      "Energy: 0.697265625\n",
      "Energy: 0.8124999999999999\n",
      "Energy: 0.5859375000000001\n",
      "Energy: 0.9296875\n",
      "Energy: 0.888671875\n",
      "Energy: 0.46875\n",
      "Energy: 0.47265625\n",
      "Energy: 0.8574218750000001\n",
      "Energy: 0.908203125\n",
      "Energy: 0.509765625\n",
      "Energy: 0.751953125\n",
      "Energy: 0.85546875\n",
      "Energy: 0.7734375\n",
      "Energy: 0.779296875\n",
      "Energy: 0.8613281249999999\n",
      "Energy: 0.5234374999999999\n",
      "Energy: -0.22265625\n",
      "Energy: 0.3183593749999999\n",
      "Energy: -0.4414062499999999\n",
      "Energy: -0.7421875\n",
      "Energy: -0.6796875000000001\n",
      "Energy: -0.876953125\n",
      "Energy: -0.9140624999999998\n",
      "Energy: -0.76171875\n",
      "Energy: -0.939453125\n",
      "Energy: -0.802734375\n",
      "Energy: -0.931640625\n",
      "Energy: -0.888671875\n",
      "Energy: -0.884765625\n",
      "Energy: -0.875\n",
      "Energy: -0.857421875\n",
      "Energy: -0.931640625\n",
      "Energy: -0.978515625\n",
      "Energy: -0.8378906250000002\n",
      "Energy: -0.8828125000000002\n",
      "Energy: -0.97265625\n",
      "Energy: -0.947265625\n",
      "Energy: -0.955078125\n",
      "Energy: -0.92578125\n",
      "Energy: -0.96484375\n",
      "Energy: -0.970703125\n",
      "Energy: -0.943359375\n",
      "Energy: -0.87109375\n",
      "Energy: -0.98828125\n",
      "Energy: -0.9765625\n",
      "Energy: -0.943359375\n",
      "Energy: -0.953125\n",
      "Energy: -0.9453125000000001\n",
      "Energy: -0.94921875\n",
      "Energy: -0.9609375\n",
      "Energy: -0.9707031249999998\n",
      "Energy: -0.9433593750000001\n",
      "Energy: -0.93359375\n",
      "Energy: -0.96875\n",
      "Energy: -0.9589843749999999\n",
      "Energy: -0.943359375\n",
      "Energy: -0.9746093749999999\n",
      "Energy: -0.9511718750000001\n",
      "Energy: -0.962890625\n",
      "Energy: -0.9667968750000001\n",
      "Energy: -0.95703125\n",
      "Energy: -0.970703125\n",
      "Energy: -0.9570312500000001\n",
      "Energy: -0.935546875\n",
      "Energy: -0.955078125\n",
      "Energy: -0.96484375\n",
      "Energy: -0.9609375\n",
      "Energy: -0.962890625\n",
      "Energy: -0.94921875\n",
      "Energy: -0.958984375\n",
      "Energy: -0.966796875\n",
      "Energy: -0.955078125\n",
      "Energy: -0.96484375\n",
      "Energy: -0.94921875\n",
      "Energy: -0.951171875\n",
      "Energy: -0.9765625\n",
      "Energy: -0.970703125\n",
      "Energy: -0.96484375\n",
      "Energy: -0.966796875\n",
      "Energy: -0.9746093749999998\n",
      "Energy: -0.958984375\n",
      "Energy: -0.98046875\n",
      "Energy: -0.947265625\n",
      "Energy: -0.939453125\n",
      "Energy: -0.953125\n",
      "Energy: -0.955078125\n",
      "Energy: -0.958984375\n",
      "Energy: -0.96875\n",
      "Energy: -0.9609375\n",
      "Energy: -0.970703125\n",
      "Energy: -0.951171875\n",
      "Energy: -0.953125\n",
      "Energy: -0.9394531250000001\n",
      "Energy: -0.9687500000000001\n",
      "Energy: -0.9570312500000001\n",
      "Energy: -0.96875\n",
      "Energy: -0.9726562500000001\n",
      "Energy: -0.9609375\n",
      "Energy: -0.96875\n",
      "Energy: -0.966796875\n",
      "Energy: -0.958984375\n",
      "Energy: -0.96484375\n",
      "Energy: -0.94921875\n",
      "Energy: -0.955078125\n",
      "Energy: -0.939453125\n",
      "Energy: -0.9609375\n",
      "Energy: -0.966796875\n",
      "Energy: -0.974609375\n",
      "Energy: -0.9843750000000001\n",
      "Energy: -0.95703125\n",
      "Energy: -1.0\n"
     ]
    }
   ],
   "source": [
    "local_result = local_vqe.compute_minimum_eigenvalue(hamiltonian)"
   ]
  },
  {
   "cell_type": "code",
   "execution_count": 9,
   "metadata": {},
   "outputs": [
    {
     "output_type": "stream",
     "name": "stdout",
     "text": [
      "Eigenvalue: -1.0\nTarget: -1\n"
     ]
    }
   ],
   "source": [
    "print('Eigenvalue:', local_result.eigenvalue)\n",
    "print('Target:', target_energy)"
   ]
  },
  {
   "cell_type": "code",
   "execution_count": 10,
   "metadata": {},
   "outputs": [
    {
     "output_type": "stream",
     "name": "stdout",
     "text": [
      "Mean error: 0.013951608120399287\n"
     ]
    }
   ],
   "source": [
    "print('Mean error:', np.mean(intermediate_info['stddev']))"
   ]
  },
  {
   "cell_type": "code",
   "execution_count": 11,
   "metadata": {
    "tags": []
   },
   "outputs": [
    {
     "output_type": "stream",
     "name": "stdout",
     "text": [
      "[ 0.57132064  0.22075195  0.83364823  0.54880388  0.29850701  0.02479665\n -0.00193714  0.96053071  0.36911084 -0.11166019  0.48535982  1.15339335\n  0.20394827  0.71219226  1.01262096  0.81252607]\n"
     ]
    }
   ],
   "source": [
    "print(intermediate_info['parameters'][0])"
   ]
  },
  {
   "source": [
    "# IBMQ VQE"
   ],
   "cell_type": "markdown",
   "metadata": {}
  },
  {
   "cell_type": "code",
   "execution_count": 14,
   "metadata": {},
   "outputs": [
    {
     "output_type": "stream",
     "name": "stderr",
     "text": [
      "ibmqfactory.load_account:WARNING:2021-06-03 10:16:24,463: Credentials are already in use. The existing account in the session will be replaced.\n"
     ]
    }
   ],
   "source": [
    "from qiskit import IBMQ\n",
    "\n",
    "IBMQ.load_account()\n",
    "IBMQ.providers()\n",
    "provider = IBMQ.get_provider(hub='strangeworks-hub', group='science-team', project='science-test')\n",
    "backend = provider.get_backend('ibmq_montreal')"
   ]
  },
  {
   "cell_type": "code",
   "execution_count": 15,
   "metadata": {},
   "outputs": [],
   "source": [
    "from qiskit.algorithms import VQE\n",
    "\n",
    "ibmq_vqe = VQE(ansatz=ansatz,\n",
    "                optimizer=optimizer,\n",
    "                initial_point=initial_point,\n",
    "                quantum_instance=backend,\n",
    "                callback=callback)"
   ]
  },
  {
   "cell_type": "code",
   "execution_count": 16,
   "metadata": {},
   "outputs": [
    {
     "output_type": "stream",
     "name": "stderr",
     "text": [
      "/Users/dylan/repos/qiskit-test/venv/lib/python3.8/site-packages/qiskit/utils/run_circuits.py:382: DeprecationWarning: Passing a Qobj to Backend.run is deprecated and will be removed in a future release. Please pass in circuits or pulse schedules instead.\n  job = backend.run(qobj, **backend_options, **noise_config)\n"
     ]
    },
    {
     "output_type": "execute_result",
     "data": {
      "text/plain": [
       "<qiskit.algorithms.minimum_eigen_solvers.vqe.VQEResult at 0x141324f10>"
      ]
     },
     "metadata": {},
     "execution_count": 16
    }
   ],
   "source": [
    "ibmq_vqe.compute_minimum_eigenvalue(hamiltonian)"
   ]
  },
  {
   "cell_type": "code",
   "execution_count": 18,
   "metadata": {},
   "outputs": [
    {
     "output_type": "stream",
     "name": "stdout",
     "text": [
      "<qiskit.algorithms.minimum_eigen_solvers.vqe.VQE object at 0x13f8daee0>\n"
     ]
    }
   ],
   "source": [
    "print(ibmq_vqe)"
   ]
  },
  {
   "source": [
    "# Runtime VQE"
   ],
   "cell_type": "markdown",
   "metadata": {}
  },
  {
   "cell_type": "code",
   "execution_count": 12,
   "metadata": {},
   "outputs": [],
   "source": [
    "from qiskit import IBMQ\n"
   ]
  },
  {
   "cell_type": "code",
   "execution_count": 9,
   "metadata": {},
   "outputs": [
    {
     "output_type": "stream",
     "name": "stderr",
     "text": [
      "ibmqfactory.load_account:WARNING:2021-06-15 11:03:40,635: Credentials are already in use. The existing account in the session will be replaced.\n",
      "[<IBMQBackend('ibmq_montreal') from IBMQ(hub='strangeworks-hub', group='science-team', project='science-test')>]\n"
     ]
    }
   ],
   "source": [
    "IBMQ.load_account()\n",
    "IBMQ.providers()\n",
    "provider = IBMQ.get_provider(hub='strangeworks-hub', group='science-team', project='science-test')\n",
    "print(provider.backends())"
   ]
  },
  {
   "cell_type": "code",
   "execution_count": 10,
   "metadata": {},
   "outputs": [],
   "source": [
    "backend = provider.get_backend('ibmq_montreal')"
   ]
  },
  {
   "cell_type": "code",
   "execution_count": 11,
   "metadata": {},
   "outputs": [],
   "source": [
    "intermediate_info = {\n",
    "    'nfev': [],\n",
    "    'parameters': [],\n",
    "    'energy': [],\n",
    "    'stddev': []\n",
    "}\n",
    "\n",
    "def callback(nfev, parameters, energy, stddev):\n",
    "    print(f\"Energy: {energy}\")\n",
    "    intermediate_info['nfev'].append(nfev)\n",
    "    intermediate_info['parameters'].append(parameters)\n",
    "    intermediate_info['energy'].append(energy)\n",
    "    intermediate_info['stddev'].append(stddev)"
   ]
  },
  {
   "cell_type": "code",
   "execution_count": 12,
   "metadata": {},
   "outputs": [],
   "source": [
    "measurement_error_mitigation = True"
   ]
  },
  {
   "cell_type": "code",
   "execution_count": 13,
   "metadata": {},
   "outputs": [],
   "source": [
    "from qiskit_nature.runtime import VQEProgram"
   ]
  },
  {
   "cell_type": "code",
   "execution_count": 14,
   "metadata": {},
   "outputs": [],
   "source": [
    "optimizer = {'name': 'SPSA',\n",
    "             'maxiter': 50}\n",
    "\n",
    "runtime_vqe = VQEProgram(ansatz=ansatz,\n",
    "                         optimizer=optimizer,\n",
    "                         initial_point=initial_point,\n",
    "                         provider=provider,\n",
    "                         backend=backend,\n",
    "                         shots=1024,\n",
    "                         measurement_error_mitigation=measurement_error_mitigation,\n",
    "                         callback=callback)"
   ]
  },
  {
   "cell_type": "code",
   "execution_count": 15,
   "metadata": {},
   "outputs": [
    {
     "output_type": "stream",
     "name": "stdout",
     "text": [
      "Energy: 0.5883778167311592\n",
      "Energy: 0.7452928109218331\n",
      "Energy: 0.4594141931515584\n",
      "Energy: 0.2797551730844739\n",
      "Energy: -0.06323847553222661\n",
      "Energy: -0.000108795253770555\n",
      "Energy: -0.182843913237669\n",
      "Energy: -0.1053398843131319\n",
      "Energy: -0.1158362880826323\n",
      "Energy: -0.13319666009927683\n",
      "Energy: -0.08131120172279166\n",
      "Energy: -0.22702728134655925\n",
      "Energy: -0.41332644832806936\n",
      "Energy: -0.46096539665909836\n",
      "Energy: -0.4637597429462904\n",
      "Energy: -0.505396536376537\n",
      "Energy: -0.5306735827105009\n",
      "Energy: -0.4368643814677961\n",
      "Energy: -0.457297146404122\n",
      "Energy: -0.5240512672256404\n",
      "Energy: -0.5393477687104911\n",
      "Energy: -0.5469590432393561\n",
      "Energy: -0.5936181732402407\n",
      "Energy: -0.577849246862833\n",
      "Energy: -0.5321729000152865\n",
      "Energy: -0.5832671345684347\n",
      "Energy: -0.5594573743375322\n",
      "Energy: -0.584595613859757\n",
      "Energy: -0.5800178903982152\n",
      "Energy: -0.6400366436721476\n",
      "Energy: -0.603180955423327\n",
      "Energy: -0.47549483893570876\n",
      "Energy: -0.6817309654892841\n",
      "Energy: -0.7377755359736121\n",
      "Energy: -0.6873195381267446\n",
      "Energy: -0.8177225650710354\n",
      "Energy: -0.7955580630352286\n",
      "Energy: -0.7838621484892725\n",
      "Energy: -0.7672223109227795\n",
      "Energy: -0.7793934429594698\n",
      "Energy: -0.7791140709396626\n",
      "Energy: -0.8391103873301679\n",
      "Energy: -0.9052813568052543\n",
      "Energy: -0.8012469698924521\n",
      "Energy: -0.9025168179874237\n",
      "Energy: -0.8828908019062303\n",
      "Energy: -0.8028677008498054\n",
      "Energy: -0.8362775486045125\n",
      "Energy: -0.8535404917829624\n",
      "Energy: -0.8813719427859601\n",
      "Energy: -0.8457843707785576\n",
      "Energy: -0.8560231463206233\n",
      "Energy: -0.9219819906578868\n",
      "Energy: -0.8388281754956234\n",
      "Energy: 0.9999999999928935\n",
      "Energy: 0.9999999999964491\n",
      "Energy: -0.8680377618236996\n",
      "Energy: -0.9052101120542347\n",
      "Energy: -0.8686018621207406\n",
      "Energy: -0.8735778892090428\n",
      "Energy: -0.8547765313474845\n",
      "Energy: -0.813819696053722\n",
      "Energy: -0.8443765820256862\n",
      "Energy: -0.9019168879071441\n",
      "Energy: -0.8728984424747057\n",
      "Energy: -0.8486512922759926\n",
      "Energy: -0.8540854200352327\n",
      "Energy: -0.8270651268310683\n",
      "Energy: -0.8469166654161016\n",
      "Energy: -0.8186323695097536\n",
      "Energy: -0.821689092970019\n",
      "Energy: -0.8529192125353037\n",
      "Energy: -0.8536350976013226\n",
      "Energy: -0.8238230481721944\n",
      "Energy: -0.8486550780160046\n",
      "Energy: -0.7966593132027469\n",
      "Energy: -0.8048200676623113\n",
      "Energy: -0.7960853473722541\n",
      "Energy: -0.8169603928416926\n",
      "Energy: -0.8423654363488908\n",
      "Energy: -0.8080598505698725\n",
      "Energy: -0.8169568444374379\n",
      "Energy: -0.835523300306569\n",
      "Energy: -0.8469382057720888\n",
      "Energy: -0.8689589665905452\n",
      "Energy: -0.8763871473464948\n",
      "Energy: -0.8596448160837945\n",
      "Energy: -0.8669774842948906\n",
      "Energy: -0.8173527674541885\n",
      "Energy: -0.8087265001457563\n",
      "Energy: -0.817006365650564\n",
      "Energy: -0.8465566347746628\n",
      "Energy: -0.8526699909509042\n",
      "Energy: -0.826180075220475\n",
      "Energy: -0.8181541498854569\n",
      "Energy: -0.8145441125787025\n",
      "Energy: -0.8594794351820434\n",
      "Energy: -0.824833547610241\n",
      "Energy: -0.8449053407451966\n",
      "Energy: -0.8271684498466393\n"
     ]
    }
   ],
   "source": [
    "runtime_result = runtime_vqe.compute_minimum_eigenvalue(hamiltonian)"
   ]
  },
  {
   "cell_type": "code",
   "execution_count": 17,
   "metadata": {},
   "outputs": [],
   "source": [
    "import pickle\n",
    "pickle.dump(runtime_result, open(\"results/vqe.p\", \"wb\"))\n"
   ]
  },
  {
   "cell_type": "code",
   "execution_count": 19,
   "metadata": {},
   "outputs": [
    {
     "output_type": "execute_result",
     "data": {
      "text/plain": [
       "['__abstractmethods__',\n",
       " '__class__',\n",
       " '__delattr__',\n",
       " '__dict__',\n",
       " '__dir__',\n",
       " '__doc__',\n",
       " '__eq__',\n",
       " '__format__',\n",
       " '__ge__',\n",
       " '__getattribute__',\n",
       " '__gt__',\n",
       " '__hash__',\n",
       " '__init__',\n",
       " '__init_subclass__',\n",
       " '__le__',\n",
       " '__lt__',\n",
       " '__module__',\n",
       " '__ne__',\n",
       " '__new__',\n",
       " '__reduce__',\n",
       " '__reduce_ex__',\n",
       " '__repr__',\n",
       " '__setattr__',\n",
       " '__sizeof__',\n",
       " '__slotnames__',\n",
       " '__slots__',\n",
       " '__str__',\n",
       " '__subclasshook__',\n",
       " '__weakref__',\n",
       " '_abc_impl',\n",
       " '_aux_operator_eigenvalues',\n",
       " '_cost_function_evals',\n",
       " '_eigenstate',\n",
       " '_eigenvalue',\n",
       " '_job_id',\n",
       " '_optimal_parameters',\n",
       " '_optimal_point',\n",
       " '_optimal_value',\n",
       " '_optimizer_evals',\n",
       " '_optimizer_history',\n",
       " '_optimizer_time',\n",
       " 'aux_operator_eigenvalues',\n",
       " 'combine',\n",
       " 'cost_function_evals',\n",
       " 'eigenstate',\n",
       " 'eigenvalue',\n",
       " 'job_id',\n",
       " 'optimal_parameters',\n",
       " 'optimal_point',\n",
       " 'optimal_value',\n",
       " 'optimizer_evals',\n",
       " 'optimizer_history',\n",
       " 'optimizer_time']"
      ]
     },
     "metadata": {},
     "execution_count": 19
    }
   ],
   "source": [
    "dir(runtime_result)"
   ]
  },
  {
   "cell_type": "code",
   "execution_count": null,
   "metadata": {},
   "outputs": [],
   "source": []
  }
 ]
}