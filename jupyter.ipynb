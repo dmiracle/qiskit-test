{
 "metadata": {
  "language_info": {
   "codemirror_mode": {
    "name": "ipython",
    "version": 3
   },
   "file_extension": ".py",
   "mimetype": "text/x-python",
   "name": "python",
   "nbconvert_exporter": "python",
   "pygments_lexer": "ipython3",
   "version": "3.8.2-final"
  },
  "orig_nbformat": 2,
  "kernelspec": {
   "name": "python3",
   "display_name": "Python 3.8.2 64-bit ('venv': venv)",
   "metadata": {
    "interpreter": {
     "hash": "e41e8db3f66ec53f788705e11110305541537cfc8379a6982ea1295dda8abc4a"
    }
   }
  }
 },
 "nbformat": 4,
 "nbformat_minor": 2,
 "cells": [
  {
   "cell_type": "code",
   "execution_count": 1,
   "metadata": {},
   "outputs": [],
   "source": [
    "import qiskit as qs\n",
    "\n",
    "qc = qs.QuantumCircuit(2)\n",
    "qc.h(0)\n",
    "qc.cx(0, 1)\n",
    "\n",
    "simulator = qs.Aer.get_backend('statevector_simulator')"
   ]
  },
  {
   "cell_type": "code",
   "execution_count": 3,
   "metadata": {},
   "outputs": [],
   "source": [
    "result = qs.execute(qc, simulator).result()"
   ]
  },
  {
   "cell_type": "code",
   "execution_count": 4,
   "metadata": {},
   "outputs": [
    {
     "output_type": "execute_result",
     "data": {
      "text/plain": [
       "Result(backend_name='statevector_simulator', backend_version='0.7.5', qobj_id='6ca2ca7c-8615-4442-b395-89b63882b588', job_id='b5391afe-2dd2-4262-8745-01cbd09bfb05', success=True, results=[ExperimentResult(shots=1024, success=True, meas_level=MeasLevel.CLASSIFIED, data=ExperimentResultData(statevector=[0.70710678+0.j 0.        +0.j 0.        +0.j 0.70710678+0.j]), header=QobjExperimentHeader(clbit_labels=[], creg_sizes=[], global_phase=0.0, memory_slots=0, n_qubits=2, name='circuit7', qreg_sizes=[['q', 2]], qubit_labels=[['q', 0], ['q', 1]]), status=DONE, seed_simulator=238520678, time_taken=0.000129034, metadata={'parallel_shots': 1, 'parallel_state_update': 16})], date=2021-03-01T15:43:03.821411, status=COMPLETED, status=QobjHeader(backend_name='statevector_simulator', backend_version='0.7.5'), metadata={'max_memory_mb': 16384, 'omp_enabled': True, 'parallel_experiments': 1, 'time_taken': 0.00027482600000000004}, time_taken=0.0006151199340820312)"
      ]
     },
     "metadata": {},
     "execution_count": 4
    }
   ],
   "source": [
    "result"
   ]
  },
  {
   "cell_type": "code",
   "execution_count": null,
   "metadata": {},
   "outputs": [],
   "source": []
  }
 ]
}