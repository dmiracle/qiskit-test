{
 "metadata": {
  "language_info": {
   "codemirror_mode": {
    "name": "ipython",
    "version": 3
   },
   "file_extension": ".py",
   "mimetype": "text/x-python",
   "name": "python",
   "nbconvert_exporter": "python",
   "pygments_lexer": "ipython3",
   "version": "3.8.2"
  },
  "orig_nbformat": 2,
  "kernelspec": {
   "name": "python3",
   "display_name": "Python 3.8.2 64-bit ('venv': venv)"
  },
  "metadata": {
   "interpreter": {
    "hash": "4cd7ab41f5fca4b9b44701077e38c5ffd31fe66a6cab21e0214b68d958d0e462"
   }
  },
  "interpreter": {
   "hash": "1022dce825410108a12e9be30c9d6ab7ef1801f59b4aaef47b4ea4f63b896cef"
  }
 },
 "nbformat": 4,
 "nbformat_minor": 2,
 "cells": [
  {
   "cell_type": "code",
   "execution_count": 1,
   "source": [
    "import sys\n",
    "print(sys.version)"
   ],
   "outputs": [
    {
     "output_type": "stream",
     "name": "stdout",
     "text": [
      "3.8.2 (default, Apr  8 2021, 23:19:18) \n",
      "[Clang 12.0.5 (clang-1205.0.22.9)]\n"
     ]
    }
   ],
   "metadata": {}
  },
  {
   "cell_type": "code",
   "execution_count": 1,
   "source": [
    "from decouple import config\n",
    "from qiskit import IBMQ\n",
    "from datetime import datetime\n"
   ],
   "outputs": [],
   "metadata": {}
  },
  {
   "cell_type": "code",
   "execution_count": 2,
   "source": [
    "def pdt():\n",
    "    print(datetime.now())"
   ],
   "outputs": [],
   "metadata": {}
  },
  {
   "cell_type": "code",
   "execution_count": 4,
   "source": [
    "IBMQ"
   ],
   "outputs": [
    {
     "output_type": "execute_result",
     "data": {
      "text/plain": [
       "<qiskit.IBMQWrapper at 0x10b6b8a90>"
      ]
     },
     "metadata": {},
     "execution_count": 4
    }
   ],
   "metadata": {}
  },
  {
   "cell_type": "code",
   "execution_count": 5,
   "source": [
    "IBMQ.save_account(config('IBM_API_KEY'), overwrite=True)"
   ],
   "outputs": [],
   "metadata": {}
  },
  {
   "cell_type": "code",
   "execution_count": 2,
   "source": [
    "IBMQ.load_account()\n",
    "IBMQ.providers()\n",
    "provider = IBMQ.get_provider(hub='strangeworks-hub', group='science-team', project='science-test')\n",
    "print(provider.backends())"
   ],
   "outputs": [
    {
     "output_type": "stream",
     "name": "stdout",
     "text": [
      "[<IBMQSimulator('ibmq_qasm_simulator') from IBMQ(hub='strangeworks-hub', group='science-team', project='science-test')>, <IBMQBackend('ibmq_montreal') from IBMQ(hub='strangeworks-hub', group='science-team', project='science-test')>, <IBMQBackend('ibm_nairobi') from IBMQ(hub='strangeworks-hub', group='science-team', project='science-test')>]\n"
     ]
    }
   ],
   "metadata": {}
  },
  {
   "cell_type": "code",
   "execution_count": 12,
   "source": [
    "import qiskit as qs\n",
    "from qiskit.compiler import transpile, assemble\n",
    "qr = qs.QuantumRegister(2)\n",
    "cr = qs.ClassicalRegister(2)\n",
    "qc = qs.QuantumCircuit(qr,cr)\n",
    "qc.h(0)\n",
    "qc.cx(0, 1)\n",
    "qc.measure(qr,cr)"
   ],
   "outputs": [
    {
     "output_type": "execute_result",
     "data": {
      "text/plain": [
       "<qiskit.circuit.instructionset.InstructionSet at 0x1433a0820>"
      ]
     },
     "metadata": {},
     "execution_count": 12
    }
   ],
   "metadata": {}
  },
  {
   "cell_type": "code",
   "execution_count": 13,
   "source": [
    "backend = provider.get_backend('ibmq_qasm_simulator')\n",
    "mapped_circuit = transpile(qc, backend=backend)\n",
    "qobj = assemble(mapped_circuit, backend=backend, shots=1024)\n",
    "job = backend.run(qobj)"
   ],
   "outputs": [],
   "metadata": {}
  },
  {
   "cell_type": "code",
   "execution_count": 14,
   "source": [
    "job.status()"
   ],
   "outputs": [
    {
     "output_type": "execute_result",
     "data": {
      "text/plain": [
       "<JobStatus.DONE: 'job has successfully run'>"
      ]
     },
     "metadata": {},
     "execution_count": 14
    }
   ],
   "metadata": {}
  },
  {
   "cell_type": "code",
   "execution_count": 15,
   "source": [
    "result = job.result()\n",
    "counts = result.get_counts()\n",
    "print(counts)"
   ],
   "outputs": [
    {
     "output_type": "stream",
     "name": "stdout",
     "text": [
      "{'00': 528, '11': 496}\n"
     ]
    }
   ],
   "metadata": {}
  },
  {
   "cell_type": "code",
   "execution_count": 4,
   "source": [
    "provider.has_service('runtime')"
   ],
   "outputs": [
    {
     "output_type": "execute_result",
     "data": {
      "text/plain": [
       "True"
      ]
     },
     "metadata": {},
     "execution_count": 4
    }
   ],
   "metadata": {}
  },
  {
   "cell_type": "code",
   "execution_count": 8,
   "source": [
    "pdt()\n",
    "provider.runtime.pprint_programs()"
   ],
   "outputs": [
    {
     "output_type": "stream",
     "name": "stdout",
     "text": [
      "2021-06-11 14:53:17.793110\n",
      "==================================================\n",
      "circuit-runner:\n",
      "  Name: circuit-runner\n",
      "  Description: A runtime program that takes one or more circuits, compiles them, executes them, and optionally applies measurement error mitigation.\n",
      "  Version: 1\n",
      "  Creation date: 2021-05-07T00:17:07Z\n",
      "  Max execution time: 1800\n",
      "  Input parameters:\n",
      "    - circuits:\n",
      "      Description: A circuit or a list of circuits.\n",
      "      Type: A QuantumCircuit or a list of QuantumCircuits.\n",
      "      Required: True\n",
      "    - shots:\n",
      "      Description: Number of repetitions of each circuit, for sampling. Default: 1024.\n",
      "      Type: int\n",
      "      Required: False\n",
      "    - initial_layout:\n",
      "      Description: Initial position of virtual qubits on physical qubits.\n",
      "      Type: dict or list\n",
      "      Required: False\n",
      "    - layout_method:\n",
      "      Description: Name of layout selection pass ('trivial', 'dense', 'noise_adaptive', 'sabre')\n",
      "      Type: string\n",
      "      Required: False\n",
      "    - routing_method:\n",
      "      Description: Name of routing pass ('basic', 'lookahead', 'stochastic', 'sabre').\n",
      "      Type: string\n",
      "      Required: False\n",
      "    - translation_method:\n",
      "      Description: Name of translation pass ('unroller', 'translator', 'synthesis').\n",
      "      Type: string\n",
      "      Required: False\n",
      "    - seed_transpiler:\n",
      "      Description: Sets random seed for the stochastic parts of the transpiler.\n",
      "      Type: int\n",
      "      Required: False\n",
      "    - optimization_level:\n",
      "      Description: How much optimization to perform on the circuits (0-3). Higher levels generate more optimized circuits. Default is 1.\n",
      "      Type: int\n",
      "      Required: False\n",
      "    - init_qubits:\n",
      "      Description: Whether to reset the qubits to the ground state for each shot.\n",
      "      Type: bool\n",
      "      Required: False\n",
      "    - rep_delay:\n",
      "      Description: Delay between programs in seconds.\n",
      "      Type: float\n",
      "      Required: False\n",
      "    - transpiler_options:\n",
      "      Description: Additional compilation options.\n",
      "      Type: dict\n",
      "      Required: False\n",
      "    - measurement_error_mitigation:\n",
      "      Description: Whether to apply measurement error mitigation. Default is False.\n",
      "      Type: bool\n",
      "      Required: False\n",
      "  Interim results:\n",
      "    none\n",
      "  Returns:\n",
      "    - -:\n",
      "      Description: Circuit execution results.\n",
      "      Type: RunnerResult object\n",
      "==================================================\n",
      "quantum-kernel-alignment:\n",
      "  Name: quantum-kernel-alignment\n",
      "  Description: Quantum kernel alignment algorithm that learns, on a given dataset, a quantum kernel maximizing the SVM classification margin.\n",
      "  Version: 1\n",
      "  Creation date: 2021-05-06T14:56:53Z\n",
      "  Max execution time: 28800\n",
      "  Input parameters:\n",
      "    - feature_map:\n",
      "      Description: An instance of FeatureMap in dictionary format used to map classical data into a quantum state space.\n",
      "      Type: dict\n",
      "      Required: True\n",
      "    - data:\n",
      "      Description: NxD array of training data, where N is the number of samples and D is the feature dimension.\n",
      "      Type: numpy.ndarray\n",
      "      Required: True\n",
      "    - labels:\n",
      "      Description: Nx1 array of +/-1 labels of the N training samples.\n",
      "      Type: numpy.ndarray\n",
      "      Required: True\n",
      "    - initial_kernel_parameters:\n",
      "      Description: Initial parameters of the quantum kernel. If not specified, an array of randomly generated numbers is used.\n",
      "      Type: numpy.ndarray\n",
      "      Required: False\n",
      "    - maxiters:\n",
      "      Description: Number of SPSA optimization steps. Default is 1.\n",
      "      Type: int\n",
      "      Required: False\n",
      "    - C:\n",
      "      Description: Penalty parameter for the soft-margin support vector machine. Default is 1.\n",
      "      Type: float\n",
      "      Required: False\n",
      "    - initial_layout:\n",
      "      Description: Initial position of virtual qubits on the physical qubits of the quantum device. Default is None.\n",
      "      Type: list or dict\n",
      "      Required: False\n",
      "  Interim results:\n",
      "    none\n",
      "  Returns:\n",
      "    - aligned_kernel_parameters:\n",
      "      Description: The optimized kernel parameters found from quantum kernel alignment.\n",
      "      Type: numpy.ndarray\n",
      "    - aligned_kernel_matrix:\n",
      "      Description: The aligned quantum kernel matrix evaluated with the optimized kernel parameters on the training data.\n",
      "      Type: numpy.ndarray\n",
      "==================================================\n",
      "sample-program:\n",
      "  Name: sample-program\n",
      "  Description: A sample runtime program.\n",
      "  Version: 1\n",
      "  Creation date: 2021-06-04T14:11:19Z\n",
      "  Max execution time: 300\n",
      "  Input parameters:\n",
      "    - iterations:\n",
      "      Description: Number of iterations to run. Each iteration generates and runs a random circuit.\n",
      "      Type: int\n",
      "      Required: True\n",
      "  Interim results:\n",
      "    - iteration:\n",
      "      Description: Iteration number.\n",
      "      Type: int\n",
      "    - counts:\n",
      "      Description: Histogram data of the circuit result.\n",
      "      Type: dict\n",
      "  Returns:\n",
      "    - -:\n",
      "      Description: A string that says 'All done!'.\n",
      "      Type: string\n",
      "==================================================\n",
      "vqe:\n",
      "  Name: vqe\n",
      "  Description: Variational Quantum Eigensolver (VQE) to find the minimal eigenvalue of a Hamiltonian.\n",
      "  Version: 1\n",
      "  Creation date: 2021-05-10T08:59:51Z\n",
      "  Max execution time: 18000\n",
      "  Input parameters:\n",
      "    - ansatz:\n",
      "      Description: A parameterized quantum circuit preparing the ansatz wavefunction for the VQE. It is assumed that all qubits are initially in the 0 state.\n",
      "      Type: QuantumCircuit\n",
      "      Required: True\n",
      "    - operator:\n",
      "      Description: The Hamiltonian whose smallest eigenvalue we're trying to find.\n",
      "      Type: PauliSumOp\n",
      "      Required: True\n",
      "    - optimizer:\n",
      "      Description: The classical optimizer used in to update the parameters in each iteration. Currently, only SPSA and QN-SPSA are supported. This must be a dictionary specifying the name and options of the optimizer, e.g. ``{'name': 'SPSA', 'maxiter': 100}``.\n",
      "      Type: dict\n",
      "      Required: True\n",
      "    - initial_parameters:\n",
      "      Description: Initial parameters of the ansatz. Can be an array or the string ``'random'`` to choose random initial parameters.\n",
      "      Type: Union[numpy.ndarray, str]\n",
      "      Required: True\n",
      "    - aux_operators:\n",
      "      Description: A list of operators to be evaluated at the final, optimized state.\n",
      "      Type: List[PauliSumOp]\n",
      "      Required: False\n",
      "    - shots:\n",
      "      Description: The number of shots used for each circuit evaluation. Defaults to 1024.\n",
      "      Type: int\n",
      "      Required: False\n",
      "    - measurement_error_mitigation:\n",
      "      Description: Whether to apply measurement error mitigation in form of a complete measurement fitter to the measurements. Defaults to False.\n",
      "      Type: bool\n",
      "      Required: False\n",
      "    - initial_layout:\n",
      "      Description: Initial position of virtual qubits on the physical qubits of the quantum device. Default is None.\n",
      "      Type: list or dict\n",
      "      Required: False\n",
      "  Interim results:\n",
      "    none\n",
      "  Returns:\n",
      "    - optimizer_evals:\n",
      "      Description: The number of steps of the optimizer.\n",
      "      Type: int\n",
      "    - optimizer_time:\n",
      "      Description: The total time taken by the optimizer.\n",
      "      Type: float\n",
      "    - optimal_value:\n",
      "      Description: The smallest value found during the optimization. Equal to the ``eigenvalue`` attribute.\n",
      "      Type: float\n",
      "    - optimal_point:\n",
      "      Description: The optimal parameter values found during the optimization.\n",
      "      Type: np.ndarray\n",
      "    - optimal_parameters:\n",
      "      Description: Not supported at the moment, therefore ``None``.\n",
      "      Type: NoneType\n",
      "    - cost_function_evals:\n",
      "      Description: The number of cost function (energy) evaluations\n",
      "      Type: int\n",
      "    - eigenstate:\n",
      "      Description: The square root of sampling probabilities for each computational basis state of the circuit with optimal parameters.\n",
      "      Type: dict\n",
      "    - eigenvalue:\n",
      "      Description: The estimated eigenvalue.\n",
      "      Type: complex\n",
      "    - aux_operator_eigenvalues:\n",
      "      Description: The expectation values of the auxiliary operators at the optimal state.\n",
      "      Type: np.ndarray\n",
      "    - optimizer_history:\n",
      "      Description: A dictionary containing information about the optimization process: the value objective function, parameters, and a timestamp.\n",
      "      Type: dict\n"
     ]
    }
   ],
   "metadata": {}
  },
  {
   "cell_type": "code",
   "execution_count": 13,
   "source": [
    "program = provider.runtime.program('sample-program')\n",
    "print(program)"
   ],
   "outputs": [
    {
     "output_type": "stream",
     "name": "stdout",
     "text": [
      "sample-program:\n",
      "  Name: sample-program\n",
      "  Description: A sample runtime program.\n",
      "  Version: 1\n",
      "  Creation date: 2021-06-04T14:11:19Z\n",
      "  Max execution time: 300\n",
      "  Input parameters:\n",
      "    - iterations:\n",
      "      Description: Number of iterations to run. Each iteration generates and runs a random circuit.\n",
      "      Type: int\n",
      "      Required: True\n",
      "  Interim results:\n",
      "    - iteration:\n",
      "      Description: Iteration number.\n",
      "      Type: int\n",
      "    - counts:\n",
      "      Description: Histogram data of the circuit result.\n",
      "      Type: dict\n",
      "  Returns:\n",
      "    - -:\n",
      "      Description: A string that says 'All done!'.\n",
      "      Type: string\n"
     ]
    }
   ],
   "metadata": {}
  },
  {
   "cell_type": "code",
   "execution_count": 5,
   "source": [
    "def interim_result_callback(job_id, interim_result):\n",
    "    print(f\"interim result: {interim_result}\")"
   ],
   "outputs": [],
   "metadata": {}
  },
  {
   "cell_type": "code",
   "execution_count": 6,
   "source": [
    "backend = provider.get_backend('ibmq_montreal')\n",
    "program_inputs = {\n",
    "    'iterations': 3\n",
    "}\n",
    "options = {'backend_name': backend.name()}\n",
    "job = provider.runtime.run(program_id=\"sample-program\",\n",
    "                           options=options,\n",
    "                           inputs=program_inputs,\n",
    "                           callback=interim_result_callback\n",
    "                          )\n",
    "print(f\"job id: {job.job_id()}\")\n",
    "result = job.result()\n",
    "print(result)"
   ],
   "outputs": [
    {
     "output_type": "stream",
     "name": "stdout",
     "text": [
      "job id: c35lks11vsjqegaq50sg\n"
     ]
    },
    {
     "output_type": "error",
     "ename": "OSError",
     "evalue": "Could not find a suitable TLS CA certificate bundle, invalid path: /Users/dylan/repos/qiskit-test/venv/lib/python3.8/site-packages/certifi/cacert.pem",
     "traceback": [
      "\u001b[0;31m---------------------------------------------------------------------------\u001b[0m",
      "\u001b[0;31mOSError\u001b[0m                                   Traceback (most recent call last)",
      "\u001b[0;32m<ipython-input-6-3dae5e910d25>\u001b[0m in \u001b[0;36m<module>\u001b[0;34m\u001b[0m\n\u001b[1;32m     10\u001b[0m                           )\n\u001b[1;32m     11\u001b[0m \u001b[0mprint\u001b[0m\u001b[0;34m(\u001b[0m\u001b[0;34mf\"job id: {job.job_id()}\"\u001b[0m\u001b[0;34m)\u001b[0m\u001b[0;34m\u001b[0m\u001b[0;34m\u001b[0m\u001b[0m\n\u001b[0;32m---> 12\u001b[0;31m \u001b[0mresult\u001b[0m \u001b[0;34m=\u001b[0m \u001b[0mjob\u001b[0m\u001b[0;34m.\u001b[0m\u001b[0mresult\u001b[0m\u001b[0;34m(\u001b[0m\u001b[0;34m)\u001b[0m\u001b[0;34m\u001b[0m\u001b[0;34m\u001b[0m\u001b[0m\n\u001b[0m\u001b[1;32m     13\u001b[0m \u001b[0mprint\u001b[0m\u001b[0;34m(\u001b[0m\u001b[0mresult\u001b[0m\u001b[0;34m)\u001b[0m\u001b[0;34m\u001b[0m\u001b[0;34m\u001b[0m\u001b[0m\n",
      "\u001b[0;32m~/repos/qiskit-test/venv/lib/python3.8/site-packages/qiskit/providers/ibmq/runtime/runtime_job.py\u001b[0m in \u001b[0;36mresult\u001b[0;34m(self, timeout, wait, decoder)\u001b[0m\n",
      "\u001b[0;32m~/repos/qiskit-test/venv/lib/python3.8/site-packages/qiskit/providers/ibmq/runtime/runtime_job.py\u001b[0m in \u001b[0;36mwait_for_final_state\u001b[0;34m(self, timeout, wait)\u001b[0m\n",
      "\u001b[0;32m~/repos/qiskit-test/venv/lib/python3.8/site-packages/qiskit/providers/ibmq/runtime/runtime_job.py\u001b[0m in \u001b[0;36mstatus\u001b[0;34m(self)\u001b[0m\n",
      "\u001b[0;32m~/repos/qiskit-test/venv/lib/python3.8/site-packages/qiskit/providers/ibmq/api/clients/runtime.py\u001b[0m in \u001b[0;36mjob_get\u001b[0;34m(self, job_id)\u001b[0m\n",
      "\u001b[0;32m~/repos/qiskit-test/venv/lib/python3.8/site-packages/qiskit/providers/ibmq/api/rest/runtime.py\u001b[0m in \u001b[0;36mget\u001b[0;34m(self)\u001b[0m\n",
      "\u001b[0;32m~/repos/qiskit-test/venv/lib/python3.8/site-packages/requests/sessions.py\u001b[0m in \u001b[0;36mget\u001b[0;34m(self, url, **kwargs)\u001b[0m\n",
      "\u001b[0;32m~/repos/qiskit-test/venv/lib/python3.8/site-packages/qiskit/providers/ibmq/api/session.py\u001b[0m in \u001b[0;36mrequest\u001b[0;34m(self, method, url, bare, **kwargs)\u001b[0m\n",
      "\u001b[0;32m~/repos/qiskit-test/venv/lib/python3.8/site-packages/requests/sessions.py\u001b[0m in \u001b[0;36mrequest\u001b[0;34m(self, method, url, params, data, headers, cookies, files, auth, timeout, allow_redirects, proxies, hooks, stream, verify, cert, json)\u001b[0m\n",
      "\u001b[0;32m~/repos/qiskit-test/venv/lib/python3.8/site-packages/requests/sessions.py\u001b[0m in \u001b[0;36msend\u001b[0;34m(self, request, **kwargs)\u001b[0m\n",
      "\u001b[0;32m~/repos/qiskit-test/venv/lib/python3.8/site-packages/requests/adapters.py\u001b[0m in \u001b[0;36msend\u001b[0;34m(self, request, stream, timeout, verify, cert, proxies)\u001b[0m\n",
      "\u001b[0;32m~/repos/qiskit-test/venv/lib/python3.8/site-packages/requests/adapters.py\u001b[0m in \u001b[0;36mcert_verify\u001b[0;34m(self, conn, url, verify, cert)\u001b[0m\n",
      "\u001b[0;31mOSError\u001b[0m: Could not find a suitable TLS CA certificate bundle, invalid path: /Users/dylan/repos/qiskit-test/venv/lib/python3.8/site-packages/certifi/cacert.pem"
     ]
    }
   ],
   "metadata": {}
  },
  {
   "cell_type": "code",
   "execution_count": 24,
   "source": [
    "import requests\n",
    "import json\n",
    "import time\n"
   ],
   "outputs": [],
   "metadata": {}
  },
  {
   "cell_type": "code",
   "execution_count": 25,
   "source": [
    "headers = {\n",
    "    'Authorization': f\"Bearer {config('IBM_API_KEY')}\",\n",
    "    'Content-Type': 'application/json'\n",
    "}\n",
    "\n",
    "Runtime_API_URL = \"https://runtime-us-east.quantum-computing.ibm.com/\"\n",
    "\n"
   ],
   "outputs": [],
   "metadata": {}
  },
  {
   "cell_type": "code",
   "execution_count": 26,
   "source": [
    "res = requests.get(Runtime_API_URL + 'programs' , headers = headers)"
   ],
   "outputs": [],
   "metadata": {}
  },
  {
   "cell_type": "code",
   "execution_count": 27,
   "source": [
    "import pprint\n",
    "pprint.pprint(res.json())"
   ],
   "outputs": [
    {
     "output_type": "stream",
     "name": "stdout",
     "text": [
      "[{'cost': 1800,\n",
      "  'creationDate': '2021-05-07T00:17:07Z',\n",
      "  'description': 'A runtime program that takes one or more circuits, compiles '\n",
      "                 'them, executes them, and optionally applies measurement '\n",
      "                 'error mitigation.',\n",
      "  'id': 'circuit-runner',\n",
      "  'name': 'circuit-runner',\n",
      "  'parameters': '{\"doc\": [{\"name\": \"circuits\", \"description\": \"A circuit or a '\n",
      "                'list of circuits.\", \"type\": \"A QuantumCircuit or a list of '\n",
      "                'QuantumCircuits.\", \"required\": true}, {\"name\": \"shots\", '\n",
      "                '\"description\": \"Number of repetitions of each circuit, for '\n",
      "                'sampling. Default: 1024.\", \"type\": \"int\", \"required\": false}, '\n",
      "                '{\"name\": \"initial_layout\", \"description\": \"Initial position '\n",
      "                'of virtual qubits on physical qubits.\", \"type\": \"dict or '\n",
      "                'list\", \"required\": false}, {\"name\": \"layout_method\", '\n",
      "                '\"description\": \"Name of layout selection pass (\\'trivial\\', '\n",
      "                '\\'dense\\', \\'noise_adaptive\\', \\'sabre\\')\", \"type\": \"string\", '\n",
      "                '\"required\": false}, {\"name\": \"routing_method\", \"description\": '\n",
      "                '\"Name of routing pass (\\'basic\\', \\'lookahead\\', '\n",
      "                '\\'stochastic\\', \\'sabre\\').\", \"type\": \"string\", \"required\": '\n",
      "                'false}, {\"name\": \"translation_method\", \"description\": \"Name '\n",
      "                \"of translation pass ('unroller', 'translator', \"\n",
      "                '\\'synthesis\\').\", \"type\": \"string\", \"required\": false}, '\n",
      "                '{\"name\": \"seed_transpiler\", \"description\": \"Sets random seed '\n",
      "                'for the stochastic parts of the transpiler.\", \"type\": \"int\", '\n",
      "                '\"required\": false}, {\"name\": \"optimization_level\", '\n",
      "                '\"description\": \"How much optimization to perform on the '\n",
      "                'circuits (0-3). Higher levels generate more optimized '\n",
      "                'circuits. Default is 1.\", \"type\": \"int\", \"required\": false}, '\n",
      "                '{\"name\": \"init_qubits\", \"description\": \"Whether to reset the '\n",
      "                'qubits to the ground state for each shot.\", \"type\": \"bool\", '\n",
      "                '\"required\": false}, {\"name\": \"rep_delay\", \"description\": '\n",
      "                '\"Delay between programs in seconds.\", \"type\": \"float\", '\n",
      "                '\"required\": false}, {\"name\": \"transpiler_options\", '\n",
      "                '\"description\": \"Additional compilation options.\", \"type\": '\n",
      "                '\"dict\", \"required\": false}, {\"name\": '\n",
      "                '\"measurement_error_mitigation\", \"description\": \"Whether to '\n",
      "                'apply measurement error mitigation. Default is False.\", '\n",
      "                '\"type\": \"bool\", \"required\": false}]}',\n",
      "  'returnValues': '[{\"name\": \"-\", \"description\": \"Circuit execution results.\", '\n",
      "                  '\"type\": \"RunnerResult object\"}]',\n",
      "  'version': '1'},\n",
      " {'cost': 28800,\n",
      "  'creationDate': '2021-05-06T14:56:53Z',\n",
      "  'description': 'Quantum kernel alignment algorithm that learns, on a given '\n",
      "                 'dataset, a quantum kernel maximizing the SVM classification '\n",
      "                 'margin.',\n",
      "  'id': 'quantum-kernel-alignment',\n",
      "  'name': 'quantum-kernel-alignment',\n",
      "  'parameters': '{\"doc\": [{\"name\": \"feature_map\", \"description\": \"An instance '\n",
      "                'of FeatureMap in dictionary format used to map classical data '\n",
      "                'into a quantum state space.\", \"type\": \"dict\", \"required\": '\n",
      "                'true}, {\"name\": \"data\", \"description\": \"NxD array of training '\n",
      "                'data, where N is the number of samples and D is the feature '\n",
      "                'dimension.\", \"type\": \"numpy.ndarray\", \"required\": true}, '\n",
      "                '{\"name\": \"labels\", \"description\": \"Nx1 array of +/-1 labels '\n",
      "                'of the N training samples.\", \"type\": \"numpy.ndarray\", '\n",
      "                '\"required\": true}, {\"name\": \"initial_kernel_parameters\", '\n",
      "                '\"description\": \"Initial parameters of the quantum kernel. If '\n",
      "                'not specified, an array of randomly generated numbers is '\n",
      "                'used.\", \"type\": \"numpy.ndarray\", \"required\": false}, {\"name\": '\n",
      "                '\"maxiters\", \"description\": \"Number of SPSA optimization '\n",
      "                'steps. Default is 1.\", \"type\": \"int\", \"required\": false}, '\n",
      "                '{\"name\": \"C\", \"description\": \"Penalty parameter for the '\n",
      "                'soft-margin support vector machine. Default is 1.\", \"type\": '\n",
      "                '\"float\", \"required\": false}, {\"name\": \"initial_layout\", '\n",
      "                '\"description\": \"Initial position of virtual qubits on the '\n",
      "                'physical qubits of the quantum device. Default is None.\", '\n",
      "                '\"type\": \"list or dict\", \"required\": false}]}',\n",
      "  'returnValues': '[{\"name\": \"aligned_kernel_parameters\", \"description\": \"The '\n",
      "                  'optimized kernel parameters found from quantum kernel '\n",
      "                  'alignment.\", \"type\": \"numpy.ndarray\"}, {\"name\": '\n",
      "                  '\"aligned_kernel_matrix\", \"description\": \"The aligned '\n",
      "                  'quantum kernel matrix evaluated with the optimized kernel '\n",
      "                  'parameters on the training data.\", \"type\": '\n",
      "                  '\"numpy.ndarray\"}]',\n",
      "  'version': '1'},\n",
      " {'backendRequirements': '{\"min_num_qubits\": 5}',\n",
      "  'cost': 900,\n",
      "  'creationDate': '2021-05-07T13:08:55Z',\n",
      "  'description': 'Simple runtime program used for testing.',\n",
      "  'id': 'runtime-simple',\n",
      "  'interimResults': '[{\"name\": \"iteration\", \"description\": \"Iteration '\n",
      "                    'number.\", \"type\": \"int\"}, {\"name\": \"counts\", '\n",
      "                    '\"description\": \"Histogram data of the circuit result.\", '\n",
      "                    '\"type\": \"dict\"}]',\n",
      "  'name': 'runtime-simple',\n",
      "  'parameters': '{\"doc\": [{\"name\": \"iterations\", \"description\": \"Number of '\n",
      "                'iterations to run. Each iteration generates and runs a random '\n",
      "                'circuit.\", \"type\": \"int\", \"required\": true}]}',\n",
      "  'returnValues': '[{\"name\": \"-\", \"description\": \"A string that says \\'All '\n",
      "                  'done!\\'.\", \"type\": \"string\"}]',\n",
      "  'version': '1'},\n",
      " {'cost': 18000,\n",
      "  'creationDate': '2021-05-10T08:59:51Z',\n",
      "  'description': 'Variational Quantum Eigensolver (VQE) to find the minimal '\n",
      "                 'eigenvalue of a Hamiltonian.',\n",
      "  'id': 'vqe',\n",
      "  'name': 'vqe',\n",
      "  'parameters': '{\"doc\": [{\"name\": \"ansatz\", \"description\": \"A parameterized '\n",
      "                'quantum circuit preparing the ansatz wavefunction for the '\n",
      "                'VQE. It is assumed that all qubits are initially in the 0 '\n",
      "                'state.\", \"type\": \"QuantumCircuit\", \"required\": true}, '\n",
      "                '{\"name\": \"operator\", \"description\": \"The Hamiltonian whose '\n",
      "                'smallest eigenvalue we\\'re trying to find.\", \"type\": '\n",
      "                '\"PauliSumOp\", \"required\": true}, {\"name\": \"optimizer\", '\n",
      "                '\"description\": \"The classical optimizer used in to update the '\n",
      "                'parameters in each iteration. Currently, only SPSA and '\n",
      "                'QN-SPSA are supported. This must be a dictionary specifying '\n",
      "                \"the name and options of the optimizer, e.g. ``{'name': \"\n",
      "                '\\'SPSA\\', \\'maxiter\\': 100}``.\", \"type\": \"dict\", \"required\": '\n",
      "                'true}, {\"name\": \"initial_parameters\", \"description\": \"Initial '\n",
      "                'parameters of the ansatz. Can be an array or the string '\n",
      "                '``\\'random\\'`` to choose random initial parameters.\", \"type\": '\n",
      "                '\"Union[numpy.ndarray, str]\", \"required\": true}, {\"name\": '\n",
      "                '\"aux_operators\", \"description\": \"A list of operators to be '\n",
      "                'evaluated at the final, optimized state.\", \"type\": '\n",
      "                '\"List[PauliSumOp]\", \"required\": false}, {\"name\": \"shots\", '\n",
      "                '\"description\": \"The number of shots used for each circuit '\n",
      "                'evaluation. Defaults to 1024.\", \"type\": \"int\", \"required\": '\n",
      "                'false}, {\"name\": \"measurement_error_mitigation\", '\n",
      "                '\"description\": \"Whether to apply measurement error mitigation '\n",
      "                'in form of a complete measurement fitter to the measurements. '\n",
      "                'Defaults to False.\", \"type\": \"bool\", \"required\": false}, '\n",
      "                '{\"name\": \"initial_layout\", \"description\": \"Initial position '\n",
      "                'of virtual qubits on the physical qubits of the quantum '\n",
      "                'device. Default is None.\", \"type\": \"list or dict\", '\n",
      "                '\"required\": false}]}',\n",
      "  'returnValues': '[{\"name\": \"optimizer_evals\", \"description\": \"The number of '\n",
      "                  'steps of the optimizer.\", \"type\": \"int\"}, {\"name\": '\n",
      "                  '\"optimizer_time\", \"description\": \"The total time taken by '\n",
      "                  'the optimizer.\", \"type\": \"float\"}, {\"name\": '\n",
      "                  '\"optimal_value\", \"description\": \"The smallest value found '\n",
      "                  'during the optimization. Equal to the ``eigenvalue`` '\n",
      "                  'attribute.\", \"type\": \"float\"}, {\"name\": \"optimal_point\", '\n",
      "                  '\"description\": \"The optimal parameter values found during '\n",
      "                  'the optimization.\", \"type\": \"np.ndarray\"}, {\"name\": '\n",
      "                  '\"optimal_parameters\", \"description\": \"Not supported at the '\n",
      "                  'moment, therefore ``None``.\", \"type\": \"NoneType\"}, {\"name\": '\n",
      "                  '\"cost_function_evals\", \"description\": \"The number of cost '\n",
      "                  'function (energy) evaluations\", \"type\": \"int\"}, {\"name\": '\n",
      "                  '\"eigenstate\", \"description\": \"The square root of sampling '\n",
      "                  'probabilities for each computational basis state of the '\n",
      "                  'circuit with optimal parameters.\", \"type\": \"dict\"}, '\n",
      "                  '{\"name\": \"eigenvalue\", \"description\": \"The estimated '\n",
      "                  'eigenvalue.\", \"type\": \"complex\"}, {\"name\": '\n",
      "                  '\"aux_operator_eigenvalues\", \"description\": \"The expectation '\n",
      "                  'values of the auxiliary operators at the optimal state.\", '\n",
      "                  '\"type\": \"np.ndarray\"}, {\"name\": \"optimizer_history\", '\n",
      "                  '\"description\": \"A dictionary containing information about '\n",
      "                  'the optimization process: the value objective function, '\n",
      "                  'parameters, and a timestamp.\", \"type\": \"dict\"}]',\n",
      "  'version': '1'}]\n"
     ]
    }
   ],
   "metadata": {}
  },
  {
   "cell_type": "code",
   "execution_count": 28,
   "source": [
    "rt_program = \"runtime-simple\"\n",
    "program_in = {\"iterations\":2}\n",
    "\n",
    "params = json.dumps({\n",
    "      \"programId\": rt_program,\n",
    "      \"hub\": \"strangeworks-hub\",\n",
    "      \"group\": \"internal\",\n",
    "      \"project\": \"default\",\n",
    "      \"backend\": \"ibmq_montreal\",\n",
    "      \"params\": [\n",
    "        json.dumps(program_in)\n",
    "      ]\n",
    "})\n",
    "\n",
    "job_id = ''\n",
    "\n",
    "res = requests.post(Runtime_API_URL + 'jobs', data=params, headers=headers)"
   ],
   "outputs": [],
   "metadata": {}
  },
  {
   "cell_type": "code",
   "execution_count": 29,
   "source": [
    "res.status_code"
   ],
   "outputs": [
    {
     "output_type": "execute_result",
     "data": {
      "text/plain": [
       "200"
      ]
     },
     "metadata": {},
     "execution_count": 29
    }
   ],
   "metadata": {}
  },
  {
   "cell_type": "code",
   "execution_count": 30,
   "source": [
    "pprint.pprint(res.json())"
   ],
   "outputs": [
    {
     "output_type": "stream",
     "name": "stdout",
     "text": [
      "{'id': 'c2nsakqvs0sjl2qsuhj0'}\n"
     ]
    }
   ],
   "metadata": {}
  },
  {
   "cell_type": "code",
   "execution_count": 26,
   "source": [
    "IBMQ.providers()"
   ],
   "outputs": [
    {
     "output_type": "execute_result",
     "data": {
      "text/plain": [
       "[<AccountProvider for IBMQ(hub='ibm-q', group='open', project='main')>]"
      ]
     },
     "metadata": {},
     "execution_count": 26
    }
   ],
   "metadata": {}
  },
  {
   "cell_type": "code",
   "execution_count": 27,
   "source": [
    "class Test1:\n",
    "    def __init__(self, val):\n",
    "        self._val = val\n",
    "    @property\n",
    "    def val(self):\n",
    "        return self._val"
   ],
   "outputs": [],
   "metadata": {}
  },
  {
   "cell_type": "code",
   "execution_count": 33,
   "source": [
    "class Test2(Test1):\n",
    "    def __init__(self, thing, stonk):\n",
    "        self._thing = thing\n",
    "        self._stonk = stonk\n",
    "    \n",
    "    @property\n",
    "    def thing(self):\n",
    "        return self._thing\n",
    "\n",
    "    @property\n",
    "    def stonk(self):\n",
    "        return self._stonk"
   ],
   "outputs": [],
   "metadata": {}
  },
  {
   "cell_type": "code",
   "execution_count": 34,
   "source": [
    "aa = Test2(1, 3)"
   ],
   "outputs": [],
   "metadata": {}
  },
  {
   "cell_type": "code",
   "execution_count": 36,
   "source": [
    "aa.val"
   ],
   "outputs": [
    {
     "output_type": "error",
     "ename": "AttributeError",
     "evalue": "'Test2' object has no attribute '_val'",
     "traceback": [
      "\u001b[0;31m---------------------------------------------------------------------------\u001b[0m",
      "\u001b[0;31mAttributeError\u001b[0m                            Traceback (most recent call last)",
      "\u001b[0;32m<ipython-input-36-c26729488186>\u001b[0m in \u001b[0;36m<module>\u001b[0;34m\u001b[0m\n\u001b[0;32m----> 1\u001b[0;31m \u001b[0maa\u001b[0m\u001b[0;34m.\u001b[0m\u001b[0mval\u001b[0m\u001b[0;34m\u001b[0m\u001b[0;34m\u001b[0m\u001b[0m\n\u001b[0m",
      "\u001b[0;32m<ipython-input-27-5c1cd1aa9d29>\u001b[0m in \u001b[0;36mval\u001b[0;34m(self)\u001b[0m\n\u001b[1;32m      4\u001b[0m     \u001b[0;34m@\u001b[0m\u001b[0mproperty\u001b[0m\u001b[0;34m\u001b[0m\u001b[0;34m\u001b[0m\u001b[0m\n\u001b[1;32m      5\u001b[0m     \u001b[0;32mdef\u001b[0m \u001b[0mval\u001b[0m\u001b[0;34m(\u001b[0m\u001b[0mself\u001b[0m\u001b[0;34m)\u001b[0m\u001b[0;34m:\u001b[0m\u001b[0;34m\u001b[0m\u001b[0;34m\u001b[0m\u001b[0m\n\u001b[0;32m----> 6\u001b[0;31m         \u001b[0;32mreturn\u001b[0m \u001b[0mself\u001b[0m\u001b[0;34m.\u001b[0m\u001b[0m_val\u001b[0m\u001b[0;34m\u001b[0m\u001b[0;34m\u001b[0m\u001b[0m\n\u001b[0m",
      "\u001b[0;31mAttributeError\u001b[0m: 'Test2' object has no attribute '_val'"
     ]
    }
   ],
   "metadata": {}
  },
  {
   "cell_type": "code",
   "execution_count": 18,
   "source": [
    "runtime_simple_data = os.path.join(os.getcwd(), \"qiskit_runtime/sw_runtime_simple/sw_runtime_simple.py\")\n",
    "runtime_simple_json = os.path.join(os.getcwd(), \"qiskit_runtime/sw_runtime_simple/sw_runtime_simple.json\")"
   ],
   "outputs": [],
   "metadata": {}
  },
  {
   "cell_type": "code",
   "execution_count": 19,
   "source": [
    "program_id = provider.runtime.upload_program(\n",
    "    data=runtime_simple_data,\n",
    "    metadata=runtime_simple_json\n",
    ")"
   ],
   "outputs": [
    {
     "output_type": "error",
     "ename": "IBMQNotAuthorizedError",
     "evalue": "'You are not authorized to upload programs.'",
     "traceback": [
      "\u001b[0;31m---------------------------------------------------------------------------\u001b[0m",
      "\u001b[0;31mIBMQNotAuthorizedError\u001b[0m                    Traceback (most recent call last)",
      "\u001b[0;32m<ipython-input-19-41f579397f70>\u001b[0m in \u001b[0;36m<module>\u001b[0;34m\u001b[0m\n\u001b[0;32m----> 1\u001b[0;31m program_id = provider.runtime.upload_program(\n\u001b[0m\u001b[1;32m      2\u001b[0m     \u001b[0mdata\u001b[0m\u001b[0;34m=\u001b[0m\u001b[0mruntime_simple_data\u001b[0m\u001b[0;34m,\u001b[0m\u001b[0;34m\u001b[0m\u001b[0;34m\u001b[0m\u001b[0m\n\u001b[1;32m      3\u001b[0m     \u001b[0mmetadata\u001b[0m\u001b[0;34m=\u001b[0m\u001b[0mruntime_simple_json\u001b[0m\u001b[0;34m\u001b[0m\u001b[0;34m\u001b[0m\u001b[0m\n\u001b[1;32m      4\u001b[0m )\n",
      "\u001b[0;32m~/repos/qiskit-test/venv/lib/python3.8/site-packages/qiskit/providers/ibmq/runtime/ibm_runtime_service.py\u001b[0m in \u001b[0;36mupload_program\u001b[0;34m(self, data, metadata, name, max_execution_time, description, version, backend_requirements, parameters, return_values, interim_results)\u001b[0m\n\u001b[1;32m    309\u001b[0m                     \"Program with the same name already exists.\") from None\n\u001b[1;32m    310\u001b[0m             \u001b[0;32mif\u001b[0m \u001b[0mex\u001b[0m\u001b[0;34m.\u001b[0m\u001b[0mstatus_code\u001b[0m \u001b[0;34m==\u001b[0m \u001b[0;36m403\u001b[0m\u001b[0;34m:\u001b[0m\u001b[0;34m\u001b[0m\u001b[0;34m\u001b[0m\u001b[0m\n\u001b[0;32m--> 311\u001b[0;31m                 raise IBMQNotAuthorizedError(\n\u001b[0m\u001b[1;32m    312\u001b[0m                     \"You are not authorized to upload programs.\") from None\n\u001b[1;32m    313\u001b[0m             \u001b[0;32mraise\u001b[0m \u001b[0mQiskitRuntimeError\u001b[0m\u001b[0;34m(\u001b[0m\u001b[0;34mf\"Failed to create program: {ex}\"\u001b[0m\u001b[0;34m)\u001b[0m \u001b[0;32mfrom\u001b[0m \u001b[0;32mNone\u001b[0m\u001b[0;34m\u001b[0m\u001b[0;34m\u001b[0m\u001b[0m\n",
      "\u001b[0;31mIBMQNotAuthorizedError\u001b[0m: 'You are not authorized to upload programs.'"
     ]
    }
   ],
   "metadata": {}
  },
  {
   "cell_type": "code",
   "execution_count": 8,
   "source": [],
   "outputs": [
    {
     "output_type": "execute_result",
     "data": {
      "text/plain": [
       "358.5"
      ]
     },
     "metadata": {},
     "execution_count": 8
    }
   ],
   "metadata": {}
  },
  {
   "cell_type": "code",
   "execution_count": null,
   "source": [],
   "outputs": [],
   "metadata": {}
  }
 ]
}